{
 "metadata": {
  "name": "",
  "signature": "sha256:38e5a23e47a9172a1f9c2b05a096ade6ec1916f2cb9baa381335e6d9f60f7512"
 },
 "nbformat": 3,
 "nbformat_minor": 0,
 "worksheets": [
  {
   "cells": [
    {
     "cell_type": "code",
     "collapsed": false,
     "input": [
      "%matplotlib inline\n",
      "\n",
      "import numpy as np\n",
      "import keras\n",
      "\n",
      "from keras.layers import Input, Dense, Dropout\n",
      "from keras.layers.advanced_activations import LeakyReLU\n",
      "from keras.models import Model\n",
      "\n",
      "import matplotlib.pyplot as plt\n",
      "\n",
      "from sklearn import preprocessing\n",
      "\n",
      "# np.random.seed(1)"
     ],
     "language": "python",
     "metadata": {},
     "outputs": [
      {
       "output_type": "stream",
       "stream": "stderr",
       "text": [
        "Using TensorFlow backend.\n"
       ]
      }
     ],
     "prompt_number": 1
    },
    {
     "cell_type": "heading",
     "level": 6,
     "metadata": {},
     "source": [
      "Load featuers"
     ]
    },
    {
     "cell_type": "code",
     "collapsed": false,
     "input": [
      "features = np.genfromtxt('features.csv', delimiter=',')\n",
      "np.random.shuffle(features)"
     ],
     "language": "python",
     "metadata": {},
     "outputs": [],
     "prompt_number": 2
    },
    {
     "cell_type": "code",
     "collapsed": false,
     "input": [
      "n_rows, n_cols = features.shape\n",
      "print(\"Number of rows: \" + str(n_rows))\n",
      "print(\"Number of cols: \" + str(n_cols))"
     ],
     "language": "python",
     "metadata": {},
     "outputs": [
      {
       "output_type": "stream",
       "stream": "stdout",
       "text": [
        "Number of rows: 4209\n",
        "Number of cols: 364\n"
       ]
      }
     ],
     "prompt_number": 3
    },
    {
     "cell_type": "code",
     "collapsed": false,
     "input": [
      "encoding_dim = 2\n",
      "layer_dim = 48"
     ],
     "language": "python",
     "metadata": {},
     "outputs": [],
     "prompt_number": 4
    },
    {
     "cell_type": "heading",
     "level": 6,
     "metadata": {},
     "source": [
      "Autoencoder"
     ]
    },
    {
     "cell_type": "code",
     "collapsed": false,
     "input": [
      "dropout_rate = 0.1\n",
      "alpha = 0.3\n",
      "\n",
      "input_features = Input(shape=(n_cols,), name=\"autoencoder_input\")\n",
      "encoder = Dense(layer_dim, activation=\"linear\", name=\"encoder_first_layer\")(input_features)\n",
      "encoder = LeakyReLU(alpha=alpha)(encoder)\n",
      "encoder = Dropout(dropout_rate, name=\"encoder_first_layer_dropout\")(encoder)\n",
      "encoder = Dense(encoding_dim, activation=\"linear\")(encoder)\n",
      "encoder = LeakyReLU(alpha=alpha)(encoder)\n",
      "encoder = Dropout(dropout_rate, name=\"encoder\")(encoder)\n",
      "\n",
      "decoder = Dense(layer_dim, activation=\"linear\", name=\"decoder_first_layer\")(encoder)\n",
      "decoder = LeakyReLU(alpha=alpha)(decoder)\n",
      "decoder = Dropout(dropout_rate, name=\"decoder_first_layer_dropout\")(decoder)\n",
      "decoder = Dense(n_cols, name=\"decoder\")(decoder)\n",
      "autoencoder = Model(input_features, decoder)"
     ],
     "language": "python",
     "metadata": {},
     "outputs": [],
     "prompt_number": 5
    },
    {
     "cell_type": "code",
     "collapsed": false,
     "input": [
      "autoencoder.summary()"
     ],
     "language": "python",
     "metadata": {},
     "outputs": [
      {
       "output_type": "stream",
       "stream": "stdout",
       "text": [
        "_________________________________________________________________\n",
        "Layer (type)                 Output Shape              Param #   \n",
        "=================================================================\n",
        "autoencoder_input (InputLaye (None, 364)               0         \n",
        "_________________________________________________________________\n",
        "encoder_first_layer (Dense)  (None, 48)                17520     \n",
        "_________________________________________________________________\n",
        "leaky_re_lu_1 (LeakyReLU)    (None, 48)                0         \n",
        "_________________________________________________________________\n",
        "encoder_first_layer_dropout  (None, 48)                0         \n",
        "_________________________________________________________________\n",
        "dense_1 (Dense)              (None, 2)                 98        \n",
        "_________________________________________________________________\n",
        "leaky_re_lu_2 (LeakyReLU)    (None, 2)                 0         \n",
        "_________________________________________________________________\n",
        "encoder (Dropout)            (None, 2)                 0         \n",
        "_________________________________________________________________\n",
        "decoder_first_layer (Dense)  (None, 48)                144       \n",
        "_________________________________________________________________\n",
        "leaky_re_lu_3 (LeakyReLU)    (None, 48)                0         \n",
        "_________________________________________________________________\n",
        "decoder_first_layer_dropout  (None, 48)                0         \n",
        "_________________________________________________________________\n",
        "decoder (Dense)              (None, 364)               17836     \n",
        "=================================================================\n",
        "Total params: 35,598\n",
        "Trainable params: 35,598\n",
        "Non-trainable params: 0\n",
        "_________________________________________________________________\n"
       ]
      }
     ],
     "prompt_number": 6
    },
    {
     "cell_type": "heading",
     "level": 6,
     "metadata": {},
     "source": [
      "Encoder"
     ]
    },
    {
     "cell_type": "code",
     "collapsed": false,
     "input": [
      "encoder = Model(input_features, encoder)"
     ],
     "language": "python",
     "metadata": {},
     "outputs": [],
     "prompt_number": 7
    },
    {
     "cell_type": "heading",
     "level": 6,
     "metadata": {},
     "source": [
      "Decoder"
     ]
    },
    {
     "cell_type": "code",
     "collapsed": false,
     "input": [
      "encoded_input = Input(shape=(encoding_dim,))\n",
      "\n",
      "decoder_layer = autoencoder.get_layer(\"decoder_first_layer\")(encoded_input)\n",
      "decoder_layer = autoencoder.get_layer(\"decoder\")(decoder_layer)\n",
      "\n",
      "decoder = Model(encoded_input, decoder_layer)"
     ],
     "language": "python",
     "metadata": {},
     "outputs": [],
     "prompt_number": 8
    },
    {
     "cell_type": "code",
     "collapsed": false,
     "input": [
      "decoder.summary()"
     ],
     "language": "python",
     "metadata": {},
     "outputs": [
      {
       "output_type": "stream",
       "stream": "stdout",
       "text": [
        "_________________________________________________________________\n",
        "Layer (type)                 Output Shape              Param #   \n",
        "=================================================================\n",
        "input_1 (InputLayer)         (None, 2)                 0         \n",
        "_________________________________________________________________\n",
        "decoder_first_layer (Dense)  (None, 48)                144       \n",
        "_________________________________________________________________\n",
        "decoder (Dense)              (None, 364)               17836     \n",
        "=================================================================\n",
        "Total params: 17,980\n",
        "Trainable params: 17,980\n",
        "Non-trainable params: 0\n",
        "_________________________________________________________________\n"
       ]
      }
     ],
     "prompt_number": 9
    },
    {
     "cell_type": "heading",
     "level": 6,
     "metadata": {},
     "source": [
      "Compile models"
     ]
    },
    {
     "cell_type": "code",
     "collapsed": false,
     "input": [
      "# autoencoder.compile(optimizer=\"adadelta\", loss=\"mean_squared_error\")\n",
      "autoencoder.compile(optimizer=\"adadelta\", loss=\"mean_absolute_error\")"
     ],
     "language": "python",
     "metadata": {},
     "outputs": [],
     "prompt_number": 10
    },
    {
     "cell_type": "heading",
     "level": 6,
     "metadata": {},
     "source": [
      "Test - train split"
     ]
    },
    {
     "cell_type": "code",
     "collapsed": false,
     "input": [
      "ts = 0.2 # Test size\n",
      "vs = 0.5 # Validation data size (as % of the test data).\n",
      "\n",
      "# normalizer = preprocessing.Normalizer().fit(features)\n",
      "# features = normalizer.transform(features)\n",
      "\n",
      "train = features[0:int((1 - ts)*n_rows),:]\n",
      "test = features[int((1 - ts)*n_rows):,:]\n",
      "\n",
      "# Half of the test set will serve as the validation set.\n",
      "# The other half will be the test set.\n",
      "valid = test[0:int(len(test)/2),:]\n",
      "test = test[int(len(test)/2):,:]\n",
      "\n",
      "n_rows_train, n_cols_train = train.shape\n",
      "n_rows_valid, n_cols_valid = valid.shape\n",
      "n_rows_test, n_cols_test = test.shape\n",
      "\n",
      "print(\"Train shape: \" + str(train.shape))\n",
      "print(\"Valid shape: \" + str(valid.shape))\n",
      "print(\"Test shape: \" + str(test.shape))\n",
      "print(\"Total number of rows: \" + str(n_rows_train + n_rows_test + n_rows_valid))\n",
      "print(\"Expected number of rows: \" + str(n_rows))"
     ],
     "language": "python",
     "metadata": {},
     "outputs": [
      {
       "output_type": "stream",
       "stream": "stdout",
       "text": [
        "Train shape: (3367, 364)\n",
        "Valid shape: (421, 364)\n",
        "Test shape: (421, 364)\n",
        "Total number of rows: 4209\n",
        "Expected number of rows: 4209\n"
       ]
      }
     ]
    },
    {
     "cell_type": "heading",
     "level": 6,
     "metadata": {},
     "source": [
      "Training the autoencoder"
     ]
    },
    {
     "cell_type": "code",
     "collapsed": false,
     "input": [
      "autoencoder.fit(train, train,\n",
      "                epochs=8000,\n",
      "                batch_size=64,\n",
      "                shuffle=True,\n",
      "                verbose=0,\n",
      "                validation_data=(valid, valid))"
     ],
     "language": "python",
     "metadata": {},
     "outputs": []
    },
    {
     "cell_type": "heading",
     "level": 6,
     "metadata": {},
     "source": [
      "Evaluate model"
     ]
    },
    {
     "cell_type": "code",
     "collapsed": false,
     "input": [
      "autoencoder.evaluate(train, train, verbose=0)"
     ],
     "language": "python",
     "metadata": {},
     "outputs": []
    },
    {
     "cell_type": "code",
     "collapsed": false,
     "input": [
      "autoencoder.evaluate(valid, valid, verbose=0)"
     ],
     "language": "python",
     "metadata": {},
     "outputs": []
    },
    {
     "cell_type": "code",
     "collapsed": false,
     "input": [
      "autoencoder.evaluate(test, test, verbose=0)"
     ],
     "language": "python",
     "metadata": {},
     "outputs": []
    },
    {
     "cell_type": "heading",
     "level": 6,
     "metadata": {},
     "source": [
      "Visualize the encoder/decoder performance"
     ]
    },
    {
     "cell_type": "code",
     "collapsed": false,
     "input": [
      "def plot_bars(true, decoded):\n",
      "    \n",
      "    n_cols = true.size\n",
      "    \n",
      "    x_axis = np.arange(n_cols)\n",
      "    width = 0.2\n",
      "\n",
      "    fig, ax = plt.subplots(figsize=(20, 20))\n",
      "    \n",
      "    print(\"true size: \" + str(true.shape))\n",
      "    print(\"decoded size: \" + str(decoded.shape))\n",
      "    \n",
      "    rects1 = ax.bar(x_axis, true, width, color=\"r\")\n",
      "    rects2 = ax.bar(x_axis + width, decoded, width, color='b')\n",
      "    ax.legend((rects1[0], rects2[0]), (\"True\", \"Decoded\"))\n",
      "    plt.show()\n",
      "    \n",
      "def encode_decode(index):\n",
      "    single_input = np.reshape(test[index,:],(1,-1))\n",
      "\n",
      "    en = encoder.predict(single_input)\n",
      "    print(en)\n",
      "\n",
      "    dc = decoder.predict(en)\n",
      "\n",
      "    true_input = np.reshape(test[index,:], (-1))\n",
      "    decoded_input = np.reshape(dc, (-1))\n",
      "\n",
      "    print(true_input.shape)\n",
      "    print(decoded_input.shape)\n",
      "\n",
      "\n",
      "    plot_bars(true_input[0:100], decoded_input[0:100])\n",
      "    plot_bars(true_input[100:200], decoded_input[100:200])\n",
      "    plot_bars(true_input[200:300], decoded_input[200:300])\n",
      "    plot_bars(true_input[300:], decoded_input[300:])"
     ],
     "language": "python",
     "metadata": {},
     "outputs": []
    },
    {
     "cell_type": "code",
     "collapsed": false,
     "input": [
      "index_list = [65, 45, 46, 100]\n",
      "\n",
      "for index in index_list:\n",
      "    encode_decode(index)"
     ],
     "language": "python",
     "metadata": {},
     "outputs": []
    },
    {
     "cell_type": "heading",
     "level": 6,
     "metadata": {},
     "source": [
      "Make new features"
     ]
    },
    {
     "cell_type": "code",
     "collapsed": false,
     "input": [
      "# Encode the featuers.\n",
      "encoded_features = encoder.predict(features)\n",
      "n_rows_nf, n_cols_nf = encoded_features.shape"
     ],
     "language": "python",
     "metadata": {},
     "outputs": []
    },
    {
     "cell_type": "code",
     "collapsed": false,
     "input": [
      "bins = int(np.sqrt(n_rows_nf))\n",
      "\n",
      "for i in range(n_cols_nf):\n",
      "    plt.hist(encoded_features[:,i].astype(np.float32), bins=bins)\n",
      "    plt.title(\"column: \" + str(i))\n",
      "    plt.show()"
     ],
     "language": "python",
     "metadata": {},
     "outputs": []
    },
    {
     "cell_type": "heading",
     "level": 6,
     "metadata": {},
     "source": [
      "Save the encoder"
     ]
    },
    {
     "cell_type": "code",
     "collapsed": false,
     "input": [
      "encoder.save(\"encoder_mean_absolute_error_dim_2.h5\")"
     ],
     "language": "python",
     "metadata": {},
     "outputs": []
    },
    {
     "cell_type": "heading",
     "level": 6,
     "metadata": {},
     "source": [
      "Scratchpad"
     ]
    },
    {
     "cell_type": "code",
     "collapsed": false,
     "input": [
      "2946+1263"
     ],
     "language": "python",
     "metadata": {},
     "outputs": []
    },
    {
     "cell_type": "code",
     "collapsed": false,
     "input": [
      "2**10"
     ],
     "language": "python",
     "metadata": {},
     "outputs": []
    },
    {
     "cell_type": "code",
     "collapsed": false,
     "input": [],
     "language": "python",
     "metadata": {},
     "outputs": []
    },
    {
     "cell_type": "code",
     "collapsed": false,
     "input": [
      "a = np.array([[1,2,3],[3,4,5],[4,5,6],[2,3,4]])"
     ],
     "language": "python",
     "metadata": {},
     "outputs": []
    },
    {
     "cell_type": "code",
     "collapsed": false,
     "input": [
      "a.shape"
     ],
     "language": "python",
     "metadata": {},
     "outputs": []
    },
    {
     "cell_type": "code",
     "collapsed": false,
     "input": [
      "np.random.shuffle(a)"
     ],
     "language": "python",
     "metadata": {},
     "outputs": []
    },
    {
     "cell_type": "code",
     "collapsed": false,
     "input": [
      "a"
     ],
     "language": "python",
     "metadata": {},
     "outputs": []
    },
    {
     "cell_type": "code",
     "collapsed": false,
     "input": [
      "np.random.exponential()"
     ],
     "language": "python",
     "metadata": {},
     "outputs": []
    },
    {
     "cell_type": "code",
     "collapsed": false,
     "input": [
      "len(a)"
     ],
     "language": "python",
     "metadata": {},
     "outputs": []
    },
    {
     "cell_type": "code",
     "collapsed": false,
     "input": [
      "np.arange(10)"
     ],
     "language": "python",
     "metadata": {},
     "outputs": []
    },
    {
     "cell_type": "code",
     "collapsed": false,
     "input": [],
     "language": "python",
     "metadata": {},
     "outputs": []
    }
   ],
   "metadata": {}
  }
 ]
}
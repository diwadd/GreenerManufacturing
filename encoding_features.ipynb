{
 "metadata": {
  "name": "",
  "signature": "sha256:72d68e67746af672dff55ed85c82baae3c80d2ecd16b5d8adea0810a9dc5279d"
 },
 "nbformat": 3,
 "nbformat_minor": 0,
 "worksheets": [
  {
   "cells": [
    {
     "cell_type": "code",
     "collapsed": false,
     "input": [
      "%matplotlib inline\n",
      "\n",
      "import numpy as np\n",
      "import keras\n",
      "\n",
      "from keras.layers import Input, Dense, Dropout\n",
      "from keras.layers.advanced_activations import LeakyReLU\n",
      "from keras.models import Model\n",
      "\n",
      "import matplotlib.pyplot as plt\n",
      "\n",
      "from sklearn import preprocessing\n",
      "\n",
      "# np.random.seed(1)"
     ],
     "language": "python",
     "metadata": {},
     "outputs": [
      {
       "output_type": "stream",
       "stream": "stderr",
       "text": [
        "Using TensorFlow backend.\n"
       ]
      }
     ],
     "prompt_number": 1
    },
    {
     "cell_type": "heading",
     "level": 6,
     "metadata": {},
     "source": [
      "Load featuers"
     ]
    },
    {
     "cell_type": "code",
     "collapsed": false,
     "input": [
      "features = np.genfromtxt('features.csv', delimiter=',')\n",
      "np.random.shuffle(features)"
     ],
     "language": "python",
     "metadata": {},
     "outputs": [],
     "prompt_number": 2
    },
    {
     "cell_type": "code",
     "collapsed": false,
     "input": [
      "n_rows, n_cols = features.shape\n",
      "print(\"Number of rows: \" + str(n_rows))\n",
      "print(\"Number of cols: \" + str(n_cols))"
     ],
     "language": "python",
     "metadata": {},
     "outputs": [
      {
       "output_type": "stream",
       "stream": "stdout",
       "text": [
        "Number of rows: 4209\n",
        "Number of cols: 364\n"
       ]
      }
     ],
     "prompt_number": 3
    },
    {
     "cell_type": "code",
     "collapsed": false,
     "input": [
      "encoding_dim = 16\n",
      "layer_dim = 64"
     ],
     "language": "python",
     "metadata": {},
     "outputs": [],
     "prompt_number": 4
    },
    {
     "cell_type": "heading",
     "level": 6,
     "metadata": {},
     "source": [
      "Autoencoder"
     ]
    },
    {
     "cell_type": "code",
     "collapsed": false,
     "input": [
      "dropout_rate = 0.1\n",
      "\n",
      "input_features = Input(shape=(n_cols,), name=\"autoencoder_input\")\n",
      "encoder = Dense(layer_dim, activation=\"sigmoid\", name=\"encoder_first_layer\")(input_features)\n",
      "encoder = Dropout(dropout_rate, name=\"encoder_first_layer_dropout\")(encoder)\n",
      "encoder = Dense(encoding_dim, activation=\"sigmoid\")(encoder)\n",
      "#encoder = LeakyReLU(alpha=0.3)(encoder)\n",
      "encoder = Dropout(dropout_rate, name=\"encoder\")(encoder)\n",
      "\n",
      "decoder = Dense(layer_dim, activation=\"sigmoid\", name=\"decoder_first_layer\")(encoder)\n",
      "decoder = Dropout(dropout_rate, name=\"decoder_first_layer_dropout\")(decoder)\n",
      "decoder = Dense(n_cols, name=\"decoder\")(decoder)\n",
      "autoencoder = Model(input_features, decoder)"
     ],
     "language": "python",
     "metadata": {},
     "outputs": [],
     "prompt_number": 5
    },
    {
     "cell_type": "code",
     "collapsed": false,
     "input": [
      "autoencoder.summary()"
     ],
     "language": "python",
     "metadata": {},
     "outputs": [
      {
       "output_type": "stream",
       "stream": "stdout",
       "text": [
        "_________________________________________________________________\n",
        "Layer (type)                 Output Shape              Param #   \n",
        "=================================================================\n",
        "autoencoder_input (InputLaye (None, 364)               0         \n",
        "_________________________________________________________________\n",
        "encoder_first_layer (Dense)  (None, 64)                23360     \n",
        "_________________________________________________________________\n",
        "encoder_first_layer_dropout  (None, 64)                0         \n",
        "_________________________________________________________________\n",
        "dense_1 (Dense)              (None, 16)                1040      \n",
        "_________________________________________________________________\n",
        "encoder (Dropout)            (None, 16)                0         \n",
        "_________________________________________________________________\n",
        "decoder_first_layer (Dense)  (None, 64)                1088      \n",
        "_________________________________________________________________\n",
        "decoder_first_layer_dropout  (None, 64)                0         \n",
        "_________________________________________________________________\n",
        "decoder (Dense)              (None, 364)               23660     \n",
        "=================================================================\n",
        "Total params: 49,148\n",
        "Trainable params: 49,148\n",
        "Non-trainable params: 0\n",
        "_________________________________________________________________\n"
       ]
      }
     ],
     "prompt_number": 6
    },
    {
     "cell_type": "heading",
     "level": 6,
     "metadata": {},
     "source": [
      "Encoder"
     ]
    },
    {
     "cell_type": "code",
     "collapsed": false,
     "input": [
      "encoder = Model(input_features, encoder)"
     ],
     "language": "python",
     "metadata": {},
     "outputs": [],
     "prompt_number": 7
    },
    {
     "cell_type": "heading",
     "level": 6,
     "metadata": {},
     "source": [
      "Decoder"
     ]
    },
    {
     "cell_type": "code",
     "collapsed": false,
     "input": [
      "encoded_input = Input(shape=(encoding_dim,))\n",
      "\n",
      "decoder_layer = autoencoder.get_layer(\"decoder_first_layer\")(encoded_input)\n",
      "decoder_layer = autoencoder.get_layer(\"decoder\")(decoder_layer)\n",
      "\n",
      "decoder = Model(encoded_input, decoder_layer)"
     ],
     "language": "python",
     "metadata": {},
     "outputs": [],
     "prompt_number": 8
    },
    {
     "cell_type": "code",
     "collapsed": false,
     "input": [
      "decoder.summary()"
     ],
     "language": "python",
     "metadata": {},
     "outputs": [
      {
       "output_type": "stream",
       "stream": "stdout",
       "text": [
        "_________________________________________________________________\n",
        "Layer (type)                 Output Shape              Param #   \n",
        "=================================================================\n",
        "input_1 (InputLayer)         (None, 16)                0         \n",
        "_________________________________________________________________\n",
        "decoder_first_layer (Dense)  (None, 64)                1088      \n",
        "_________________________________________________________________\n",
        "decoder (Dense)              (None, 364)               23660     \n",
        "=================================================================\n",
        "Total params: 24,748\n",
        "Trainable params: 24,748\n",
        "Non-trainable params: 0\n",
        "_________________________________________________________________\n"
       ]
      }
     ],
     "prompt_number": 9
    },
    {
     "cell_type": "heading",
     "level": 6,
     "metadata": {},
     "source": [
      "Compile models"
     ]
    },
    {
     "cell_type": "code",
     "collapsed": false,
     "input": [
      "autoencoder.compile(optimizer=\"adadelta\", loss=\"mean_squared_error\")\n",
      "# autoencoder.compile(optimizer=\"adadelta\", loss=\"mean_absolute_error\")"
     ],
     "language": "python",
     "metadata": {},
     "outputs": [],
     "prompt_number": 10
    },
    {
     "cell_type": "heading",
     "level": 6,
     "metadata": {},
     "source": [
      "Test - train split"
     ]
    },
    {
     "cell_type": "code",
     "collapsed": false,
     "input": [
      "ts = 0.2 # Test size\n",
      "vs = 0.5 # Validation data size (as % of the test data).\n",
      "\n",
      "# normalizer = preprocessing.Normalizer().fit(features)\n",
      "# features = normalizer.transform(features)\n",
      "\n",
      "train = features[0:int((1 - ts)*n_rows),:]\n",
      "test = features[int((1 - ts)*n_rows):,:]\n",
      "\n",
      "# Half of the test set will serve as the validation set.\n",
      "# The other half will be the test set.\n",
      "valid = test[0:int(len(test)/2),:]\n",
      "test = test[int(len(test)/2):,:]\n",
      "\n",
      "n_rows_train, n_cols_train = train.shape\n",
      "n_rows_valid, n_cols_valid = valid.shape\n",
      "n_rows_test, n_cols_test = test.shape\n",
      "\n",
      "print(\"Train shape: \" + str(train.shape))\n",
      "print(\"Valid shape: \" + str(valid.shape))\n",
      "print(\"Test shape: \" + str(test.shape))\n",
      "print(\"Total number of rows: \" + str(n_rows_train + n_rows_test + n_rows_valid))\n",
      "print(\"Expected number of rows: \" + str(n_rows))"
     ],
     "language": "python",
     "metadata": {},
     "outputs": [
      {
       "output_type": "stream",
       "stream": "stdout",
       "text": [
        "Train shape: (3367, 364)\n",
        "Valid shape: (421, 364)\n",
        "Test shape: (421, 364)\n",
        "Total number of rows: 4209\n",
        "Expected number of rows: 4209\n"
       ]
      }
     ],
     "prompt_number": 11
    },
    {
     "cell_type": "heading",
     "level": 6,
     "metadata": {},
     "source": [
      "Training the autoencoder"
     ]
    },
    {
     "cell_type": "code",
     "collapsed": false,
     "input": [
      "autoencoder.fit(train, train,\n",
      "                epochs=10000,\n",
      "                batch_size=128,\n",
      "                shuffle=True,\n",
      "                verbose=0,\n",
      "                validation_data=(valid, valid))"
     ],
     "language": "python",
     "metadata": {},
     "outputs": [
      {
       "output_type": "stream",
       "stream": "stdout",
       "text": [
        "Train on 3367 samples, validate on 421 samples\n",
        "Epoch 1/10000\n",
        "0s - loss: 6.1301 - val_loss: 5.9349\n"
       ]
      },
      {
       "output_type": "stream",
       "stream": "stdout",
       "text": [
        "Epoch 2/10000\n",
        "0s - loss: 5.7746 - val_loss: 5.5801\n"
       ]
      },
      {
       "output_type": "stream",
       "stream": "stdout",
       "text": [
        "Epoch 3/10000\n",
        "0s - loss: 5.3979 - val_loss: 5.1680\n"
       ]
      },
      {
       "output_type": "stream",
       "stream": "stdout",
       "text": [
        "Epoch 4/10000\n",
        "0s - loss: 4.9727 - val_loss: 4.7341\n"
       ]
      },
      {
       "output_type": "stream",
       "stream": "stdout",
       "text": [
        "Epoch 5/10000\n",
        "0s - loss: 4.5482 - val_loss: 4.3235\n"
       ]
      },
      {
       "output_type": "stream",
       "stream": "stdout",
       "text": [
        "Epoch 6/10000\n",
        "0s - loss: 4.1519 - val_loss: 3.9502\n"
       ]
      },
      {
       "output_type": "stream",
       "stream": "stdout",
       "text": [
        "Epoch 7/10000\n",
        "0s - loss: 3.8006 - val_loss: 3.6183\n"
       ]
      },
      {
       "output_type": "stream",
       "stream": "stdout",
       "text": [
        "Epoch 8/10000\n",
        "0s - loss: 3.4794 - val_loss: 3.3254\n"
       ]
      },
      {
       "output_type": "stream",
       "stream": "stdout",
       "text": [
        "Epoch 9/10000\n",
        "0s - loss: 3.2069 - val_loss: 3.0695\n"
       ]
      },
      {
       "output_type": "stream",
       "stream": "stdout",
       "text": [
        "Epoch 10/10000\n",
        "0s - loss: 2.9614 - val_loss: 2.8464\n"
       ]
      },
      {
       "output_type": "stream",
       "stream": "stdout",
       "text": [
        "Epoch 11/10000\n",
        "0s - loss: 2.7512 - val_loss: 2.6535\n"
       ]
      },
      {
       "output_type": "stream",
       "stream": "stdout",
       "text": [
        "Epoch 12/10000\n",
        "0s - loss: 2.5695 - val_loss: 2.4872\n"
       ]
      },
      {
       "output_type": "stream",
       "stream": "stdout",
       "text": [
        "Epoch 13/10000\n",
        "0s - loss: 2.4092 - val_loss: 2.3449\n"
       ]
      },
      {
       "output_type": "stream",
       "stream": "stdout",
       "text": [
        "Epoch 14/10000\n",
        "0s - loss: 2.2747 - val_loss: 2.2205\n"
       ]
      },
      {
       "output_type": "stream",
       "stream": "stdout",
       "text": [
        "Epoch 15/10000\n",
        "0s - loss: 2.1636 - val_loss: 2.1141\n"
       ]
      },
      {
       "output_type": "stream",
       "stream": "stdout",
       "text": [
        "Epoch 16/10000\n",
        "0s - loss: 2.0619 - val_loss: 2.0225\n"
       ]
      },
      {
       "output_type": "stream",
       "stream": "stdout",
       "text": [
        "Epoch 17/10000\n",
        "0s - loss: 1.9702 - val_loss: 1.9430\n"
       ]
      },
      {
       "output_type": "stream",
       "stream": "stdout",
       "text": [
        "Epoch 18/10000\n",
        "0s - loss: 1.8984 - val_loss: 1.8743\n"
       ]
      },
      {
       "output_type": "stream",
       "stream": "stdout",
       "text": [
        "Epoch 19/10000\n",
        "0s - loss: 1.8291 - val_loss: 1.8151\n"
       ]
      },
      {
       "output_type": "stream",
       "stream": "stdout",
       "text": [
        "Epoch 20/10000\n",
        "0s - loss: 1.7732 - val_loss: 1.7642\n"
       ]
      },
      {
       "output_type": "stream",
       "stream": "stdout",
       "text": [
        "Epoch 21/10000\n",
        "0s - loss: 1.7244 - val_loss: 1.7205\n"
       ]
      },
      {
       "output_type": "stream",
       "stream": "stdout",
       "text": [
        "Epoch 22/10000\n",
        "0s - loss: 1.6844 - val_loss: 1.6833\n"
       ]
      },
      {
       "output_type": "stream",
       "stream": "stdout",
       "text": [
        "Epoch 23/10000\n",
        "0s - loss: 1.6508 - val_loss: 1.6520\n"
       ]
      },
      {
       "output_type": "stream",
       "stream": "stdout",
       "text": [
        "Epoch 24/10000\n",
        "0s - loss: 1.6206 - val_loss: 1.6244\n"
       ]
      },
      {
       "output_type": "stream",
       "stream": "stdout",
       "text": [
        "Epoch 25/10000\n",
        "0s - loss: 1.5928 - val_loss: 1.6015\n"
       ]
      },
      {
       "output_type": "stream",
       "stream": "stdout",
       "text": [
        "Epoch 26/10000\n",
        "0s - loss: 1.5712 - val_loss: 1.5821\n"
       ]
      },
      {
       "output_type": "stream",
       "stream": "stdout",
       "text": [
        "Epoch 27/10000\n",
        "0s - loss: 1.5531 - val_loss: 1.5656\n"
       ]
      },
      {
       "output_type": "stream",
       "stream": "stdout",
       "text": [
        "Epoch 28/10000\n",
        "0s - loss: 1.5342 - val_loss: 1.5515\n"
       ]
      },
      {
       "output_type": "stream",
       "stream": "stdout",
       "text": [
        "Epoch 29/10000\n",
        "0s - loss: 1.5233 - val_loss: 1.5398\n"
       ]
      },
      {
       "output_type": "stream",
       "stream": "stdout",
       "text": [
        "Epoch 30/10000\n",
        "0s - loss: 1.5128 - val_loss: 1.5299\n"
       ]
      },
      {
       "output_type": "stream",
       "stream": "stdout",
       "text": [
        "Epoch 31/10000\n",
        "0s - loss: 1.5037 - val_loss: 1.5219\n"
       ]
      },
      {
       "output_type": "stream",
       "stream": "stdout",
       "text": [
        "Epoch 32/10000\n",
        "0s - loss: 1.4945 - val_loss: 1.5156\n"
       ]
      },
      {
       "output_type": "stream",
       "stream": "stdout",
       "text": [
        "Epoch 33/10000\n",
        "0s - loss: 1.4888 - val_loss: 1.5108\n"
       ]
      },
      {
       "output_type": "stream",
       "stream": "stdout",
       "text": [
        "Epoch 34/10000\n",
        "0s - loss: 1.4868 - val_loss: 1.5068\n"
       ]
      },
      {
       "output_type": "stream",
       "stream": "stdout",
       "text": [
        "Epoch 35/10000\n",
        "0s - loss: 1.4797 - val_loss: 1.5033\n"
       ]
      },
      {
       "output_type": "stream",
       "stream": "stdout",
       "text": [
        "Epoch 36/10000\n",
        "0s - loss: 1.4764 - val_loss: 1.5009\n"
       ]
      },
      {
       "output_type": "stream",
       "stream": "stdout",
       "text": [
        "Epoch 37/10000\n",
        "0s - loss: 1.4784 - val_loss: 1.4992\n"
       ]
      },
      {
       "output_type": "stream",
       "stream": "stdout",
       "text": [
        "Epoch 38/10000\n",
        "0s - loss: 1.4718 - val_loss: 1.4980\n"
       ]
      },
      {
       "output_type": "stream",
       "stream": "stdout",
       "text": [
        "Epoch 39/10000\n",
        "0s - loss: 1.4722 - val_loss: 1.4979\n"
       ]
      },
      {
       "output_type": "stream",
       "stream": "stdout",
       "text": [
        "Epoch 40/10000\n",
        "0s - loss: 1.4718 - val_loss: 1.4968\n"
       ]
      },
      {
       "output_type": "stream",
       "stream": "stdout",
       "text": [
        "Epoch 41/10000\n",
        "0s - loss: 1.4691 - val_loss: 1.4964\n"
       ]
      },
      {
       "output_type": "stream",
       "stream": "stdout",
       "text": [
        "Epoch 42/10000\n",
        "0s - loss: 1.4696 - val_loss: 1.4964\n"
       ]
      },
      {
       "output_type": "stream",
       "stream": "stdout",
       "text": [
        "Epoch 43/10000\n",
        "0s - loss: 1.4691 - val_loss: 1.4965\n"
       ]
      },
      {
       "output_type": "stream",
       "stream": "stdout",
       "text": [
        "Epoch 44/10000\n",
        "0s - loss: 1.4670 - val_loss: 1.4964\n"
       ]
      },
      {
       "output_type": "stream",
       "stream": "stdout",
       "text": [
        "Epoch 45/10000\n",
        "0s - loss: 1.4670 - val_loss: 1.4965\n"
       ]
      },
      {
       "output_type": "stream",
       "stream": "stdout",
       "text": [
        "Epoch 46/10000\n",
        "0s - loss: 1.4698 - val_loss: 1.4962\n"
       ]
      },
      {
       "output_type": "stream",
       "stream": "stdout",
       "text": [
        "Epoch 47/10000\n",
        "0s - loss: 1.4672 - val_loss: 1.4962\n"
       ]
      },
      {
       "output_type": "stream",
       "stream": "stdout",
       "text": [
        "Epoch 48/10000\n",
        "0s - loss: 1.4679 - val_loss: 1.4960\n"
       ]
      },
      {
       "output_type": "stream",
       "stream": "stdout",
       "text": [
        "Epoch 49/10000\n",
        "0s - loss: 1.4693 - val_loss: 1.4964\n"
       ]
      },
      {
       "output_type": "stream",
       "stream": "stdout",
       "text": [
        "Epoch 50/10000\n",
        "0s - loss: 1.4677 - val_loss: 1.4964\n"
       ]
      },
      {
       "output_type": "stream",
       "stream": "stdout",
       "text": [
        "Epoch 51/10000\n",
        "0s - loss: 1.4668 - val_loss: 1.4962\n"
       ]
      },
      {
       "output_type": "stream",
       "stream": "stdout",
       "text": [
        "Epoch 52/10000\n",
        "0s - loss: 1.4687 - val_loss: 1.4962\n"
       ]
      },
      {
       "output_type": "stream",
       "stream": "stdout",
       "text": [
        "Epoch 53/10000\n",
        "0s - loss: 1.4680 - val_loss: 1.4966\n"
       ]
      },
      {
       "output_type": "stream",
       "stream": "stdout",
       "text": [
        "Epoch 54/10000\n",
        "0s - loss: 1.4669 - val_loss: 1.4962\n"
       ]
      },
      {
       "output_type": "stream",
       "stream": "stdout",
       "text": [
        "Epoch 55/10000\n",
        "0s - loss: 1.4658 - val_loss: 1.4965\n"
       ]
      },
      {
       "output_type": "stream",
       "stream": "stdout",
       "text": [
        "Epoch 56/10000\n",
        "0s - loss: 1.4659 - val_loss: 1.4962\n"
       ]
      },
      {
       "output_type": "stream",
       "stream": "stdout",
       "text": [
        "Epoch 57/10000\n",
        "0s - loss: 1.4659 - val_loss: 1.4962\n"
       ]
      },
      {
       "output_type": "stream",
       "stream": "stdout",
       "text": [
        "Epoch 58/10000\n",
        "0s - loss: 1.4660 - val_loss: 1.4964\n"
       ]
      },
      {
       "output_type": "stream",
       "stream": "stdout",
       "text": [
        "Epoch 59/10000\n",
        "0s - loss: 1.4659 - val_loss: 1.4962\n"
       ]
      },
      {
       "output_type": "stream",
       "stream": "stdout",
       "text": [
        "Epoch 60/10000\n",
        "0s - loss: 1.4642 - val_loss: 1.4961\n"
       ]
      },
      {
       "output_type": "stream",
       "stream": "stdout",
       "text": [
        "Epoch 61/10000\n",
        "0s - loss: 1.4647 - val_loss: 1.4961\n"
       ]
      },
      {
       "output_type": "stream",
       "stream": "stdout",
       "text": [
        "Epoch 62/10000\n",
        "0s - loss: 1.4665 - val_loss: 1.4963\n"
       ]
      },
      {
       "output_type": "stream",
       "stream": "stdout",
       "text": [
        "Epoch 63/10000\n",
        "0s - loss: 1.4649 - val_loss: 1.4963\n"
       ]
      },
      {
       "output_type": "stream",
       "stream": "stdout",
       "text": [
        "Epoch 64/10000\n",
        "0s - loss: 1.4633 - val_loss: 1.4964\n"
       ]
      },
      {
       "output_type": "stream",
       "stream": "stdout",
       "text": [
        "Epoch 65/10000\n",
        "0s - loss: 1.4655 - val_loss: 1.4962\n"
       ]
      },
      {
       "output_type": "stream",
       "stream": "stdout",
       "text": [
        "Epoch 66/10000\n",
        "0s - loss: 1.4656 - val_loss: 1.4963\n"
       ]
      },
      {
       "output_type": "stream",
       "stream": "stdout",
       "text": [
        "Epoch 67/10000\n",
        "0s - loss: 1.4644 - val_loss: 1.4963\n"
       ]
      },
      {
       "output_type": "stream",
       "stream": "stdout",
       "text": [
        "Epoch 68/10000\n",
        "0s - loss: 1.4647 - val_loss: 1.4963\n"
       ]
      },
      {
       "output_type": "stream",
       "stream": "stdout",
       "text": [
        "Epoch 69/10000\n",
        "0s - loss: 1.4640 - val_loss: 1.4964\n"
       ]
      },
      {
       "output_type": "stream",
       "stream": "stdout",
       "text": [
        "Epoch 70/10000\n",
        "0s - loss: 1.4636 - val_loss: 1.4962\n"
       ]
      },
      {
       "output_type": "stream",
       "stream": "stdout",
       "text": [
        "Epoch 71/10000\n",
        "0s - loss: 1.4644 - val_loss: 1.4961\n"
       ]
      },
      {
       "output_type": "stream",
       "stream": "stdout",
       "text": [
        "Epoch 72/10000\n",
        "0s - loss: 1.4640 - val_loss: 1.4960\n"
       ]
      },
      {
       "output_type": "stream",
       "stream": "stdout",
       "text": [
        "Epoch 73/10000\n",
        "0s - loss: 1.4630 - val_loss: 1.4964\n"
       ]
      },
      {
       "output_type": "stream",
       "stream": "stdout",
       "text": [
        "Epoch 74/10000\n",
        "0s - loss: 1.4604 - val_loss: 1.4963\n"
       ]
      },
      {
       "output_type": "stream",
       "stream": "stdout",
       "text": [
        "Epoch 75/10000\n",
        "0s - loss: 1.4612 - val_loss: 1.4962\n"
       ]
      },
      {
       "output_type": "stream",
       "stream": "stdout",
       "text": [
        "Epoch 76/10000\n",
        "0s - loss: 1.4619 - val_loss: 1.4961\n"
       ]
      },
      {
       "output_type": "stream",
       "stream": "stdout",
       "text": [
        "Epoch 77/10000\n",
        "0s - loss: 1.4639 - val_loss: 1.4961\n"
       ]
      },
      {
       "output_type": "stream",
       "stream": "stdout",
       "text": [
        "Epoch 78/10000\n",
        "0s - loss: 1.4635 - val_loss: 1.4963\n"
       ]
      },
      {
       "output_type": "stream",
       "stream": "stdout",
       "text": [
        "Epoch 79/10000\n",
        "0s - loss: 1.4620 - val_loss: 1.4961\n"
       ]
      },
      {
       "output_type": "stream",
       "stream": "stdout",
       "text": [
        "Epoch 80/10000\n",
        "0s - loss: 1.4618 - val_loss: 1.4960\n"
       ]
      },
      {
       "output_type": "stream",
       "stream": "stdout",
       "text": [
        "Epoch 81/10000\n",
        "0s - loss: 1.4635 - val_loss: 1.4960\n"
       ]
      },
      {
       "output_type": "stream",
       "stream": "stdout",
       "text": [
        "Epoch 82/10000\n",
        "0s - loss: 1.4620 - val_loss: 1.4961\n"
       ]
      },
      {
       "output_type": "stream",
       "stream": "stdout",
       "text": [
        "Epoch 83/10000\n",
        "0s - loss: 1.4637 - val_loss: 1.4963\n"
       ]
      },
      {
       "output_type": "stream",
       "stream": "stdout",
       "text": [
        "Epoch 84/10000\n",
        "0s - loss: 1.4591 - val_loss: 1.4960\n"
       ]
      },
      {
       "output_type": "stream",
       "stream": "stdout",
       "text": [
        "Epoch 85/10000\n",
        "0s - loss: 1.4621 - val_loss: 1.4958\n"
       ]
      },
      {
       "output_type": "stream",
       "stream": "stdout",
       "text": [
        "Epoch 86/10000\n",
        "0s - loss: 1.4583 - val_loss: 1.4959\n"
       ]
      },
      {
       "output_type": "stream",
       "stream": "stdout",
       "text": [
        "Epoch 87/10000\n",
        "0s - loss: 1.4601 - val_loss: 1.4960\n"
       ]
      },
      {
       "output_type": "stream",
       "stream": "stdout",
       "text": [
        "Epoch 88/10000\n",
        "0s - loss: 1.4593 - val_loss: 1.4958\n"
       ]
      },
      {
       "output_type": "stream",
       "stream": "stdout",
       "text": [
        "Epoch 89/10000\n",
        "0s - loss: 1.4578 - val_loss: 1.4960\n"
       ]
      },
      {
       "output_type": "stream",
       "stream": "stdout",
       "text": [
        "Epoch 90/10000\n",
        "0s - loss: 1.4628 - val_loss: 1.4958\n"
       ]
      },
      {
       "output_type": "stream",
       "stream": "stdout",
       "text": [
        "Epoch 91/10000\n",
        "0s - loss: 1.4623 - val_loss: 1.4957\n"
       ]
      },
      {
       "output_type": "stream",
       "stream": "stdout",
       "text": [
        "Epoch 92/10000\n",
        "0s - loss: 1.4638 - val_loss: 1.4951\n"
       ]
      },
      {
       "output_type": "stream",
       "stream": "stdout",
       "text": [
        "Epoch 93/10000\n",
        "0s - loss: 1.4596 - val_loss: 1.4950\n"
       ]
      },
      {
       "output_type": "stream",
       "stream": "stdout",
       "text": [
        "Epoch 94/10000\n",
        "0s - loss: 1.4577 - val_loss: 1.4947\n"
       ]
      },
      {
       "output_type": "stream",
       "stream": "stdout",
       "text": [
        "Epoch 95/10000\n",
        "0s - loss: 1.4569 - val_loss: 1.4938\n"
       ]
      },
      {
       "output_type": "stream",
       "stream": "stdout",
       "text": [
        "Epoch 96/10000\n",
        "0s - loss: 1.4564 - val_loss: 1.4926\n"
       ]
      },
      {
       "output_type": "stream",
       "stream": "stdout",
       "text": [
        "Epoch 97/10000\n",
        "0s - loss: 1.4566 - val_loss: 1.4897\n"
       ]
      },
      {
       "output_type": "stream",
       "stream": "stdout",
       "text": [
        "Epoch 98/10000\n",
        "0s - loss: 1.4494 - val_loss: 1.4824\n"
       ]
      },
      {
       "output_type": "stream",
       "stream": "stdout",
       "text": [
        "Epoch 99/10000\n",
        "0s - loss: 1.4435 - val_loss: 1.4672\n"
       ]
      },
      {
       "output_type": "stream",
       "stream": "stdout",
       "text": [
        "Epoch 100/10000\n",
        "0s - loss: 1.4224 - val_loss: 1.4314\n"
       ]
      },
      {
       "output_type": "stream",
       "stream": "stdout",
       "text": [
        "Epoch 101/10000\n",
        "0s - loss: 1.3770 - val_loss: 1.3891\n"
       ]
      },
      {
       "output_type": "stream",
       "stream": "stdout",
       "text": [
        "Epoch 102/10000\n",
        "0s - loss: 1.3440 - val_loss: 1.3572\n"
       ]
      },
      {
       "output_type": "stream",
       "stream": "stdout",
       "text": [
        "Epoch 103/10000\n",
        "0s - loss: 1.3179 - val_loss: 1.3341\n"
       ]
      },
      {
       "output_type": "stream",
       "stream": "stdout",
       "text": [
        "Epoch 104/10000\n",
        "0s - loss: 1.2965 - val_loss: 1.3142\n"
       ]
      },
      {
       "output_type": "stream",
       "stream": "stdout",
       "text": [
        "Epoch 105/10000\n",
        "0s - loss: 1.2768 - val_loss: 1.2958\n"
       ]
      },
      {
       "output_type": "stream",
       "stream": "stdout",
       "text": [
        "Epoch 106/10000\n",
        "0s - loss: 1.2629 - val_loss: 1.2796\n"
       ]
      },
      {
       "output_type": "stream",
       "stream": "stdout",
       "text": [
        "Epoch 107/10000\n",
        "0s - loss: 1.2496 - val_loss: 1.2646\n"
       ]
      },
      {
       "output_type": "stream",
       "stream": "stdout",
       "text": [
        "Epoch 108/10000\n",
        "0s - loss: 1.2366 - val_loss: 1.2516\n"
       ]
      },
      {
       "output_type": "stream",
       "stream": "stdout",
       "text": [
        "Epoch 109/10000\n",
        "0s - loss: 1.2267 - val_loss: 1.2432\n"
       ]
      },
      {
       "output_type": "stream",
       "stream": "stdout",
       "text": [
        "Epoch 110/10000\n",
        "0s - loss: 1.2183 - val_loss: 1.2318\n"
       ]
      },
      {
       "output_type": "stream",
       "stream": "stdout",
       "text": [
        "Epoch 111/10000\n",
        "0s - loss: 1.2087 - val_loss: 1.2270\n"
       ]
      },
      {
       "output_type": "stream",
       "stream": "stdout",
       "text": [
        "Epoch 112/10000\n",
        "0s - loss: 1.2032 - val_loss: 1.2176\n"
       ]
      },
      {
       "output_type": "stream",
       "stream": "stdout",
       "text": [
        "Epoch 113/10000\n",
        "0s - loss: 1.1999 - val_loss: 1.2144\n"
       ]
      },
      {
       "output_type": "stream",
       "stream": "stdout",
       "text": [
        "Epoch 114/10000\n",
        "0s - loss: 1.1942 - val_loss: 1.2101\n"
       ]
      },
      {
       "output_type": "stream",
       "stream": "stdout",
       "text": [
        "Epoch 115/10000\n",
        "0s - loss: 1.1887 - val_loss: 1.2021\n"
       ]
      },
      {
       "output_type": "stream",
       "stream": "stdout",
       "text": [
        "Epoch 116/10000\n",
        "0s - loss: 1.1849 - val_loss: 1.1989\n"
       ]
      },
      {
       "output_type": "stream",
       "stream": "stdout",
       "text": [
        "Epoch 117/10000\n",
        "0s - loss: 1.1811 - val_loss: 1.1954\n"
       ]
      },
      {
       "output_type": "stream",
       "stream": "stdout",
       "text": [
        "Epoch 118/10000\n",
        "0s - loss: 1.1777 - val_loss: 1.1904\n"
       ]
      },
      {
       "output_type": "stream",
       "stream": "stdout",
       "text": [
        "Epoch 119/10000\n",
        "0s - loss: 1.1721 - val_loss: 1.1852\n"
       ]
      },
      {
       "output_type": "stream",
       "stream": "stdout",
       "text": [
        "Epoch 120/10000\n",
        "0s - loss: 1.1681 - val_loss: 1.1817\n"
       ]
      },
      {
       "output_type": "stream",
       "stream": "stdout",
       "text": [
        "Epoch 121/10000\n",
        "0s - loss: 1.1642 - val_loss: 1.1764\n"
       ]
      },
      {
       "output_type": "stream",
       "stream": "stdout",
       "text": [
        "Epoch 122/10000\n",
        "0s - loss: 1.1610 - val_loss: 1.1723\n"
       ]
      },
      {
       "output_type": "stream",
       "stream": "stdout",
       "text": [
        "Epoch 123/10000\n",
        "0s - loss: 1.1558 - val_loss: 1.1675\n"
       ]
      },
      {
       "output_type": "stream",
       "stream": "stdout",
       "text": [
        "Epoch 124/10000\n",
        "0s - loss: 1.1499 - val_loss: 1.1633\n"
       ]
      },
      {
       "output_type": "stream",
       "stream": "stdout",
       "text": [
        "Epoch 125/10000\n",
        "0s - loss: 1.1470 - val_loss: 1.1578\n"
       ]
      },
      {
       "output_type": "stream",
       "stream": "stdout",
       "text": [
        "Epoch 126/10000\n",
        "0s - loss: 1.1428 - val_loss: 1.1526\n"
       ]
      },
      {
       "output_type": "stream",
       "stream": "stdout",
       "text": [
        "Epoch 127/10000\n",
        "0s - loss: 1.1363 - val_loss: 1.1474\n"
       ]
      },
      {
       "output_type": "stream",
       "stream": "stdout",
       "text": [
        "Epoch 128/10000\n",
        "0s - loss: 1.1320 - val_loss: 1.1419\n"
       ]
      },
      {
       "output_type": "stream",
       "stream": "stdout",
       "text": [
        "Epoch 129/10000\n",
        "0s - loss: 1.1260 - val_loss: 1.1363\n"
       ]
      },
      {
       "output_type": "stream",
       "stream": "stdout",
       "text": [
        "Epoch 130/10000\n",
        "0s - loss: 1.1188 - val_loss: 1.1295\n"
       ]
      },
      {
       "output_type": "stream",
       "stream": "stdout",
       "text": [
        "Epoch 131/10000\n",
        "0s - loss: 1.1144 - val_loss: 1.1234\n"
       ]
      },
      {
       "output_type": "stream",
       "stream": "stdout",
       "text": [
        "Epoch 132/10000\n",
        "0s - loss: 1.1095 - val_loss: 1.1180\n"
       ]
      },
      {
       "output_type": "stream",
       "stream": "stdout",
       "text": [
        "Epoch 133/10000\n",
        "0s - loss: 1.1025 - val_loss: 1.1118\n"
       ]
      },
      {
       "output_type": "stream",
       "stream": "stdout",
       "text": [
        "Epoch 134/10000\n",
        "0s - loss: 1.0976 - val_loss: 1.1051\n"
       ]
      },
      {
       "output_type": "stream",
       "stream": "stdout",
       "text": [
        "Epoch 135/10000\n",
        "0s - loss: 1.0928 - val_loss: 1.0979\n"
       ]
      },
      {
       "output_type": "stream",
       "stream": "stdout",
       "text": [
        "Epoch 136/10000\n",
        "0s - loss: 1.0831 - val_loss: 1.0911\n"
       ]
      },
      {
       "output_type": "stream",
       "stream": "stdout",
       "text": [
        "Epoch 137/10000\n",
        "0s - loss: 1.0790 - val_loss: 1.0854\n"
       ]
      },
      {
       "output_type": "stream",
       "stream": "stdout",
       "text": [
        "Epoch 138/10000\n",
        "0s - loss: 1.0690 - val_loss: 1.0775\n"
       ]
      },
      {
       "output_type": "stream",
       "stream": "stdout",
       "text": [
        "Epoch 139/10000\n",
        "0s - loss: 1.0639 - val_loss: 1.0713\n"
       ]
      },
      {
       "output_type": "stream",
       "stream": "stdout",
       "text": [
        "Epoch 140/10000\n",
        "0s - loss: 1.0587 - val_loss: 1.0634\n"
       ]
      },
      {
       "output_type": "stream",
       "stream": "stdout",
       "text": [
        "Epoch 141/10000\n",
        "0s - loss: 1.0524 - val_loss: 1.0570\n"
       ]
      },
      {
       "output_type": "stream",
       "stream": "stdout",
       "text": [
        "Epoch 142/10000\n",
        "0s - loss: 1.0456 - val_loss: 1.0489\n"
       ]
      },
      {
       "output_type": "stream",
       "stream": "stdout",
       "text": [
        "Epoch 143/10000\n",
        "0s - loss: 1.0379 - val_loss: 1.0409\n"
       ]
      },
      {
       "output_type": "stream",
       "stream": "stdout",
       "text": [
        "Epoch 144/10000\n",
        "0s - loss: 1.0313 - val_loss: 1.0334\n"
       ]
      },
      {
       "output_type": "stream",
       "stream": "stdout",
       "text": [
        "Epoch 145/10000\n",
        "0s - loss: 1.0250 - val_loss: 1.0247\n"
       ]
      },
      {
       "output_type": "stream",
       "stream": "stdout",
       "text": [
        "Epoch 146/10000\n",
        "0s - loss: 1.0138 - val_loss: 1.0165\n"
       ]
      },
      {
       "output_type": "stream",
       "stream": "stdout",
       "text": [
        "Epoch 147/10000\n",
        "0s - loss: 1.0047 - val_loss: 1.0079\n"
       ]
      },
      {
       "output_type": "stream",
       "stream": "stdout",
       "text": [
        "Epoch 148/10000\n",
        "0s - loss: 0.9985 - val_loss: 0.9993\n"
       ]
      },
      {
       "output_type": "stream",
       "stream": "stdout",
       "text": [
        "Epoch 149/10000\n",
        "0s - loss: 0.9886 - val_loss: 0.9910\n"
       ]
      },
      {
       "output_type": "stream",
       "stream": "stdout",
       "text": [
        "Epoch 150/10000\n",
        "0s - loss: 0.9852 - val_loss: 0.9808\n"
       ]
      },
      {
       "output_type": "stream",
       "stream": "stdout",
       "text": [
        "Epoch 151/10000\n",
        "0s - loss: 0.9704 - val_loss: 0.9715\n"
       ]
      },
      {
       "output_type": "stream",
       "stream": "stdout",
       "text": [
        "Epoch 152/10000\n",
        "0s - loss: 0.9661 - val_loss: 0.9622\n"
       ]
      },
      {
       "output_type": "stream",
       "stream": "stdout",
       "text": [
        "Epoch 153/10000\n",
        "0s - loss: 0.9512 - val_loss: 0.9529\n"
       ]
      },
      {
       "output_type": "stream",
       "stream": "stdout",
       "text": [
        "Epoch 154/10000\n",
        "0s - loss: 0.9471 - val_loss: 0.9431\n"
       ]
      },
      {
       "output_type": "stream",
       "stream": "stdout",
       "text": [
        "Epoch 155/10000\n",
        "0s - loss: 0.9339 - val_loss: 0.9338\n"
       ]
      },
      {
       "output_type": "stream",
       "stream": "stdout",
       "text": [
        "Epoch 156/10000\n",
        "0s - loss: 0.9305 - val_loss: 0.9242\n"
       ]
      },
      {
       "output_type": "stream",
       "stream": "stdout",
       "text": [
        "Epoch 157/10000\n",
        "0s - loss: 0.9204 - val_loss: 0.9152\n"
       ]
      },
      {
       "output_type": "stream",
       "stream": "stdout",
       "text": [
        "Epoch 158/10000\n",
        "0s - loss: 0.9098 - val_loss: 0.9066\n"
       ]
      },
      {
       "output_type": "stream",
       "stream": "stdout",
       "text": [
        "Epoch 159/10000\n",
        "0s - loss: 0.9013 - val_loss: 0.8965\n"
       ]
      },
      {
       "output_type": "stream",
       "stream": "stdout",
       "text": [
        "Epoch 160/10000\n",
        "0s - loss: 0.8942 - val_loss: 0.8874\n"
       ]
      },
      {
       "output_type": "stream",
       "stream": "stdout",
       "text": [
        "Epoch 161/10000\n",
        "0s - loss: 0.8839 - val_loss: 0.8800\n"
       ]
      },
      {
       "output_type": "stream",
       "stream": "stdout",
       "text": [
        "Epoch 162/10000\n",
        "0s - loss: 0.8803 - val_loss: 0.8700\n"
       ]
      },
      {
       "output_type": "stream",
       "stream": "stdout",
       "text": [
        "Epoch 163/10000\n",
        "0s - loss: 0.8685 - val_loss: 0.8626\n"
       ]
      },
      {
       "output_type": "stream",
       "stream": "stdout",
       "text": [
        "Epoch 164/10000\n",
        "0s - loss: 0.8615 - val_loss: 0.8538\n"
       ]
      },
      {
       "output_type": "stream",
       "stream": "stdout",
       "text": [
        "Epoch 165/10000\n",
        "0s - loss: 0.8549 - val_loss: 0.8456\n"
       ]
      },
      {
       "output_type": "stream",
       "stream": "stdout",
       "text": [
        "Epoch 166/10000\n",
        "0s - loss: 0.8473 - val_loss: 0.8382\n"
       ]
      },
      {
       "output_type": "stream",
       "stream": "stdout",
       "text": [
        "Epoch 167/10000\n",
        "0s - loss: 0.8404 - val_loss: 0.8308\n"
       ]
      },
      {
       "output_type": "stream",
       "stream": "stdout",
       "text": [
        "Epoch 168/10000\n",
        "0s - loss: 0.8353 - val_loss: 0.8238\n"
       ]
      },
      {
       "output_type": "stream",
       "stream": "stdout",
       "text": [
        "Epoch 169/10000\n",
        "0s - loss: 0.8280 - val_loss: 0.8174\n"
       ]
      },
      {
       "output_type": "stream",
       "stream": "stdout",
       "text": [
        "Epoch 170/10000\n",
        "0s - loss: 0.8223 - val_loss: 0.8110\n"
       ]
      },
      {
       "output_type": "stream",
       "stream": "stdout",
       "text": [
        "Epoch 171/10000\n",
        "0s - loss: 0.8149 - val_loss: 0.8049\n"
       ]
      },
      {
       "output_type": "stream",
       "stream": "stdout",
       "text": [
        "Epoch 172/10000\n",
        "0s - loss: 0.8102 - val_loss: 0.7994\n"
       ]
      },
      {
       "output_type": "stream",
       "stream": "stdout",
       "text": [
        "Epoch 173/10000\n",
        "0s - loss: 0.8052 - val_loss: 0.7937\n"
       ]
      },
      {
       "output_type": "stream",
       "stream": "stdout",
       "text": [
        "Epoch 174/10000\n",
        "0s - loss: 0.8004 - val_loss: 0.7891\n"
       ]
      },
      {
       "output_type": "stream",
       "stream": "stdout",
       "text": [
        "Epoch 175/10000\n",
        "0s - loss: 0.7954 - val_loss: 0.7823\n"
       ]
      },
      {
       "output_type": "stream",
       "stream": "stdout",
       "text": [
        "Epoch 176/10000\n",
        "0s - loss: 0.7935 - val_loss: 0.7774\n"
       ]
      },
      {
       "output_type": "stream",
       "stream": "stdout",
       "text": [
        "Epoch 177/10000\n",
        "0s - loss: 0.7881 - val_loss: 0.7732\n"
       ]
      },
      {
       "output_type": "stream",
       "stream": "stdout",
       "text": [
        "Epoch 178/10000\n",
        "0s - loss: 0.7840 - val_loss: 0.7684\n"
       ]
      },
      {
       "output_type": "stream",
       "stream": "stdout",
       "text": [
        "Epoch 179/10000\n",
        "0s - loss: 0.7809 - val_loss: 0.7638\n"
       ]
      },
      {
       "output_type": "stream",
       "stream": "stdout",
       "text": [
        "Epoch 180/10000\n",
        "0s - loss: 0.7745 - val_loss: 0.7597\n"
       ]
      },
      {
       "output_type": "stream",
       "stream": "stdout",
       "text": [
        "Epoch 181/10000\n",
        "0s - loss: 0.7728 - val_loss: 0.7579\n"
       ]
      },
      {
       "output_type": "stream",
       "stream": "stdout",
       "text": [
        "Epoch 182/10000\n",
        "0s - loss: 0.7704 - val_loss: 0.7537\n"
       ]
      },
      {
       "output_type": "stream",
       "stream": "stdout",
       "text": [
        "Epoch 183/10000\n",
        "0s - loss: 0.7667 - val_loss: 0.7496\n"
       ]
      },
      {
       "output_type": "stream",
       "stream": "stdout",
       "text": [
        "Epoch 184/10000\n",
        "0s - loss: 0.7620 - val_loss: 0.7458\n"
       ]
      },
      {
       "output_type": "stream",
       "stream": "stdout",
       "text": [
        "Epoch 185/10000\n",
        "0s - loss: 0.7620 - val_loss: 0.7419\n"
       ]
      },
      {
       "output_type": "stream",
       "stream": "stdout",
       "text": [
        "Epoch 186/10000\n",
        "0s - loss: 0.7591 - val_loss: 0.7400\n"
       ]
      },
      {
       "output_type": "stream",
       "stream": "stdout",
       "text": [
        "Epoch 187/10000\n",
        "0s - loss: 0.7575 - val_loss: 0.7360\n"
       ]
      },
      {
       "output_type": "stream",
       "stream": "stdout",
       "text": [
        "Epoch 188/10000\n",
        "0s - loss: 0.7534 - val_loss: 0.7328\n"
       ]
      },
      {
       "output_type": "stream",
       "stream": "stdout",
       "text": [
        "Epoch 189/10000\n",
        "0s - loss: 0.7542 - val_loss: 0.7302\n"
       ]
      },
      {
       "output_type": "stream",
       "stream": "stdout",
       "text": [
        "Epoch 190/10000\n",
        "0s - loss: 0.7486 - val_loss: 0.7272\n"
       ]
      },
      {
       "output_type": "stream",
       "stream": "stdout",
       "text": [
        "Epoch 191/10000\n",
        "0s - loss: 0.7451 - val_loss: 0.7246\n"
       ]
      },
      {
       "output_type": "stream",
       "stream": "stdout",
       "text": [
        "Epoch 192/10000\n",
        "0s - loss: 0.7407 - val_loss: 0.7222\n"
       ]
      },
      {
       "output_type": "stream",
       "stream": "stdout",
       "text": [
        "Epoch 193/10000\n",
        "0s - loss: 0.7408 - val_loss: 0.7200\n"
       ]
      },
      {
       "output_type": "stream",
       "stream": "stdout",
       "text": [
        "Epoch 194/10000\n",
        "0s - loss: 0.7379 - val_loss: 0.7169\n"
       ]
      },
      {
       "output_type": "stream",
       "stream": "stdout",
       "text": [
        "Epoch 195/10000\n",
        "0s - loss: 0.7372 - val_loss: 0.7154\n"
       ]
      },
      {
       "output_type": "stream",
       "stream": "stdout",
       "text": [
        "Epoch 196/10000\n",
        "0s - loss: 0.7352 - val_loss: 0.7133\n"
       ]
      },
      {
       "output_type": "stream",
       "stream": "stdout",
       "text": [
        "Epoch 197/10000\n",
        "0s - loss: 0.7326 - val_loss: 0.7117\n"
       ]
      },
      {
       "output_type": "stream",
       "stream": "stdout",
       "text": [
        "Epoch 198/10000\n",
        "0s - loss: 0.7314 - val_loss: 0.7083\n"
       ]
      },
      {
       "output_type": "stream",
       "stream": "stdout",
       "text": [
        "Epoch 199/10000\n",
        "0s - loss: 0.7302 - val_loss: 0.7060\n"
       ]
      },
      {
       "output_type": "stream",
       "stream": "stdout",
       "text": [
        "Epoch 200/10000\n",
        "0s - loss: 0.7294 - val_loss: 0.7040\n"
       ]
      },
      {
       "output_type": "stream",
       "stream": "stdout",
       "text": [
        "Epoch 201/10000\n",
        "0s - loss: 0.7237 - val_loss: 0.7023\n"
       ]
      },
      {
       "output_type": "stream",
       "stream": "stdout",
       "text": [
        "Epoch 202/10000\n",
        "0s - loss: 0.7253 - val_loss: 0.7009\n"
       ]
      },
      {
       "output_type": "stream",
       "stream": "stdout",
       "text": [
        "Epoch 203/10000\n",
        "0s - loss: 0.7251 - val_loss: 0.6990\n"
       ]
      },
      {
       "output_type": "stream",
       "stream": "stdout",
       "text": [
        "Epoch 204/10000\n",
        "0s - loss: 0.7200 - val_loss: 0.6966\n"
       ]
      },
      {
       "output_type": "stream",
       "stream": "stdout",
       "text": [
        "Epoch 205/10000\n",
        "0s - loss: 0.7210 - val_loss: 0.6956\n"
       ]
      },
      {
       "output_type": "stream",
       "stream": "stdout",
       "text": [
        "Epoch 206/10000\n",
        "0s - loss: 0.7173 - val_loss: 0.6936\n"
       ]
      },
      {
       "output_type": "stream",
       "stream": "stdout",
       "text": [
        "Epoch 207/10000\n",
        "0s - loss: 0.7205 - val_loss: 0.6925\n"
       ]
      },
      {
       "output_type": "stream",
       "stream": "stdout",
       "text": [
        "Epoch 208/10000\n",
        "0s - loss: 0.7156 - val_loss: 0.6916\n"
       ]
      },
      {
       "output_type": "stream",
       "stream": "stdout",
       "text": [
        "Epoch 209/10000\n"
       ]
      },
      {
       "ename": "KeyboardInterrupt",
       "evalue": "",
       "output_type": "pyerr",
       "traceback": [
        "\u001b[0;31m---------------------------------------------------------------------------\u001b[0m\n\u001b[0;31mKeyboardInterrupt\u001b[0m                         Traceback (most recent call last)",
        "\u001b[0;32m<ipython-input-12-41401f22d574>\u001b[0m in \u001b[0;36m<module>\u001b[0;34m()\u001b[0m\n\u001b[1;32m      4\u001b[0m                 \u001b[0mshuffle\u001b[0m\u001b[0;34m=\u001b[0m\u001b[0;32mTrue\u001b[0m\u001b[0;34m,\u001b[0m\u001b[0;34m\u001b[0m\u001b[0m\n\u001b[1;32m      5\u001b[0m                 \u001b[0mverbose\u001b[0m\u001b[0;34m=\u001b[0m\u001b[0;36m2\u001b[0m\u001b[0;34m,\u001b[0m\u001b[0;34m\u001b[0m\u001b[0m\n\u001b[0;32m----> 6\u001b[0;31m                 validation_data=(valid, valid))\n\u001b[0m",
        "\u001b[0;32m/usr/local/lib/python3.5/dist-packages/Keras-2.0.4-py3.5.egg/keras/engine/training.py\u001b[0m in \u001b[0;36mfit\u001b[0;34m(self, x, y, batch_size, epochs, verbose, callbacks, validation_split, validation_data, shuffle, class_weight, sample_weight, initial_epoch, **kwargs)\u001b[0m\n\u001b[1;32m   1502\u001b[0m                               \u001b[0mval_f\u001b[0m\u001b[0;34m=\u001b[0m\u001b[0mval_f\u001b[0m\u001b[0;34m,\u001b[0m \u001b[0mval_ins\u001b[0m\u001b[0;34m=\u001b[0m\u001b[0mval_ins\u001b[0m\u001b[0;34m,\u001b[0m \u001b[0mshuffle\u001b[0m\u001b[0;34m=\u001b[0m\u001b[0mshuffle\u001b[0m\u001b[0;34m,\u001b[0m\u001b[0;34m\u001b[0m\u001b[0m\n\u001b[1;32m   1503\u001b[0m                               \u001b[0mcallback_metrics\u001b[0m\u001b[0;34m=\u001b[0m\u001b[0mcallback_metrics\u001b[0m\u001b[0;34m,\u001b[0m\u001b[0;34m\u001b[0m\u001b[0m\n\u001b[0;32m-> 1504\u001b[0;31m                               initial_epoch=initial_epoch)\n\u001b[0m\u001b[1;32m   1505\u001b[0m \u001b[0;34m\u001b[0m\u001b[0m\n\u001b[1;32m   1506\u001b[0m     \u001b[0;32mdef\u001b[0m \u001b[0mevaluate\u001b[0m\u001b[0;34m(\u001b[0m\u001b[0mself\u001b[0m\u001b[0;34m,\u001b[0m \u001b[0mx\u001b[0m\u001b[0;34m,\u001b[0m \u001b[0my\u001b[0m\u001b[0;34m,\u001b[0m \u001b[0mbatch_size\u001b[0m\u001b[0;34m=\u001b[0m\u001b[0;36m32\u001b[0m\u001b[0;34m,\u001b[0m \u001b[0mverbose\u001b[0m\u001b[0;34m=\u001b[0m\u001b[0;36m1\u001b[0m\u001b[0;34m,\u001b[0m \u001b[0msample_weight\u001b[0m\u001b[0;34m=\u001b[0m\u001b[0;32mNone\u001b[0m\u001b[0;34m)\u001b[0m\u001b[0;34m:\u001b[0m\u001b[0;34m\u001b[0m\u001b[0m\n",
        "\u001b[0;32m/usr/local/lib/python3.5/dist-packages/Keras-2.0.4-py3.5.egg/keras/engine/training.py\u001b[0m in \u001b[0;36m_fit_loop\u001b[0;34m(self, f, ins, out_labels, batch_size, epochs, verbose, callbacks, val_f, val_ins, shuffle, callback_metrics, initial_epoch)\u001b[0m\n\u001b[1;32m   1154\u001b[0m                 \u001b[0mbatch_logs\u001b[0m\u001b[0;34m[\u001b[0m\u001b[0;34m'size'\u001b[0m\u001b[0;34m]\u001b[0m \u001b[0;34m=\u001b[0m \u001b[0mlen\u001b[0m\u001b[0;34m(\u001b[0m\u001b[0mbatch_ids\u001b[0m\u001b[0;34m)\u001b[0m\u001b[0;34m\u001b[0m\u001b[0m\n\u001b[1;32m   1155\u001b[0m                 \u001b[0mcallbacks\u001b[0m\u001b[0;34m.\u001b[0m\u001b[0mon_batch_begin\u001b[0m\u001b[0;34m(\u001b[0m\u001b[0mbatch_index\u001b[0m\u001b[0;34m,\u001b[0m \u001b[0mbatch_logs\u001b[0m\u001b[0;34m)\u001b[0m\u001b[0;34m\u001b[0m\u001b[0m\n\u001b[0;32m-> 1156\u001b[0;31m                 \u001b[0mouts\u001b[0m \u001b[0;34m=\u001b[0m \u001b[0mf\u001b[0m\u001b[0;34m(\u001b[0m\u001b[0mins_batch\u001b[0m\u001b[0;34m)\u001b[0m\u001b[0;34m\u001b[0m\u001b[0m\n\u001b[0m\u001b[1;32m   1157\u001b[0m                 \u001b[0;32mif\u001b[0m \u001b[0;32mnot\u001b[0m \u001b[0misinstance\u001b[0m\u001b[0;34m(\u001b[0m\u001b[0mouts\u001b[0m\u001b[0;34m,\u001b[0m \u001b[0mlist\u001b[0m\u001b[0;34m)\u001b[0m\u001b[0;34m:\u001b[0m\u001b[0;34m\u001b[0m\u001b[0m\n\u001b[1;32m   1158\u001b[0m                     \u001b[0mouts\u001b[0m \u001b[0;34m=\u001b[0m \u001b[0;34m[\u001b[0m\u001b[0mouts\u001b[0m\u001b[0;34m]\u001b[0m\u001b[0;34m\u001b[0m\u001b[0m\n",
        "\u001b[0;32m/usr/local/lib/python3.5/dist-packages/Keras-2.0.4-py3.5.egg/keras/backend/tensorflow_backend.py\u001b[0m in \u001b[0;36m__call__\u001b[0;34m(self, inputs)\u001b[0m\n\u001b[1;32m   2271\u001b[0m         updated = session.run(self.outputs + [self.updates_op],\n\u001b[1;32m   2272\u001b[0m                               \u001b[0mfeed_dict\u001b[0m\u001b[0;34m=\u001b[0m\u001b[0mfeed_dict\u001b[0m\u001b[0;34m,\u001b[0m\u001b[0;34m\u001b[0m\u001b[0m\n\u001b[0;32m-> 2273\u001b[0;31m                               **self.session_kwargs)\n\u001b[0m\u001b[1;32m   2274\u001b[0m         \u001b[0;32mreturn\u001b[0m \u001b[0mupdated\u001b[0m\u001b[0;34m[\u001b[0m\u001b[0;34m:\u001b[0m\u001b[0mlen\u001b[0m\u001b[0;34m(\u001b[0m\u001b[0mself\u001b[0m\u001b[0;34m.\u001b[0m\u001b[0moutputs\u001b[0m\u001b[0;34m)\u001b[0m\u001b[0;34m]\u001b[0m\u001b[0;34m\u001b[0m\u001b[0m\n\u001b[1;32m   2275\u001b[0m \u001b[0;34m\u001b[0m\u001b[0m\n",
        "\u001b[0;32m/usr/local/lib/python3.5/dist-packages/tensorflow/python/client/session.py\u001b[0m in \u001b[0;36mrun\u001b[0;34m(self, fetches, feed_dict, options, run_metadata)\u001b[0m\n\u001b[1;32m    767\u001b[0m     \u001b[0;32mtry\u001b[0m\u001b[0;34m:\u001b[0m\u001b[0;34m\u001b[0m\u001b[0m\n\u001b[1;32m    768\u001b[0m       result = self._run(None, fetches, feed_dict, options_ptr,\n\u001b[0;32m--> 769\u001b[0;31m                          run_metadata_ptr)\n\u001b[0m\u001b[1;32m    770\u001b[0m       \u001b[0;32mif\u001b[0m \u001b[0mrun_metadata\u001b[0m\u001b[0;34m:\u001b[0m\u001b[0;34m\u001b[0m\u001b[0m\n\u001b[1;32m    771\u001b[0m         \u001b[0mproto_data\u001b[0m \u001b[0;34m=\u001b[0m \u001b[0mtf_session\u001b[0m\u001b[0;34m.\u001b[0m\u001b[0mTF_GetBuffer\u001b[0m\u001b[0;34m(\u001b[0m\u001b[0mrun_metadata_ptr\u001b[0m\u001b[0;34m)\u001b[0m\u001b[0;34m\u001b[0m\u001b[0m\n",
        "\u001b[0;32m/usr/local/lib/python3.5/dist-packages/tensorflow/python/client/session.py\u001b[0m in \u001b[0;36m_run\u001b[0;34m(self, handle, fetches, feed_dict, options, run_metadata)\u001b[0m\n\u001b[1;32m    965\u001b[0m     \u001b[0;32mif\u001b[0m \u001b[0mfinal_fetches\u001b[0m \u001b[0;32mor\u001b[0m \u001b[0mfinal_targets\u001b[0m\u001b[0;34m:\u001b[0m\u001b[0;34m\u001b[0m\u001b[0m\n\u001b[1;32m    966\u001b[0m       results = self._do_run(handle, final_targets, final_fetches,\n\u001b[0;32m--> 967\u001b[0;31m                              feed_dict_string, options, run_metadata)\n\u001b[0m\u001b[1;32m    968\u001b[0m     \u001b[0;32melse\u001b[0m\u001b[0;34m:\u001b[0m\u001b[0;34m\u001b[0m\u001b[0m\n\u001b[1;32m    969\u001b[0m       \u001b[0mresults\u001b[0m \u001b[0;34m=\u001b[0m \u001b[0;34m[\u001b[0m\u001b[0;34m]\u001b[0m\u001b[0;34m\u001b[0m\u001b[0m\n",
        "\u001b[0;32m/usr/local/lib/python3.5/dist-packages/tensorflow/python/client/session.py\u001b[0m in \u001b[0;36m_do_run\u001b[0;34m(self, handle, target_list, fetch_list, feed_dict, options, run_metadata)\u001b[0m\n\u001b[1;32m   1015\u001b[0m     \u001b[0;32mif\u001b[0m \u001b[0mhandle\u001b[0m \u001b[0;32mis\u001b[0m \u001b[0;32mNone\u001b[0m\u001b[0;34m:\u001b[0m\u001b[0;34m\u001b[0m\u001b[0m\n\u001b[1;32m   1016\u001b[0m       return self._do_call(_run_fn, self._session, feed_dict, fetch_list,\n\u001b[0;32m-> 1017\u001b[0;31m                            target_list, options, run_metadata)\n\u001b[0m\u001b[1;32m   1018\u001b[0m     \u001b[0;32melse\u001b[0m\u001b[0;34m:\u001b[0m\u001b[0;34m\u001b[0m\u001b[0m\n\u001b[1;32m   1019\u001b[0m       return self._do_call(_prun_fn, self._session, handle, feed_dict,\n",
        "\u001b[0;32m/usr/local/lib/python3.5/dist-packages/tensorflow/python/client/session.py\u001b[0m in \u001b[0;36m_do_call\u001b[0;34m(self, fn, *args)\u001b[0m\n\u001b[1;32m   1022\u001b[0m   \u001b[0;32mdef\u001b[0m \u001b[0m_do_call\u001b[0m\u001b[0;34m(\u001b[0m\u001b[0mself\u001b[0m\u001b[0;34m,\u001b[0m \u001b[0mfn\u001b[0m\u001b[0;34m,\u001b[0m \u001b[0;34m*\u001b[0m\u001b[0margs\u001b[0m\u001b[0;34m)\u001b[0m\u001b[0;34m:\u001b[0m\u001b[0;34m\u001b[0m\u001b[0m\n\u001b[1;32m   1023\u001b[0m     \u001b[0;32mtry\u001b[0m\u001b[0;34m:\u001b[0m\u001b[0;34m\u001b[0m\u001b[0m\n\u001b[0;32m-> 1024\u001b[0;31m       \u001b[0;32mreturn\u001b[0m \u001b[0mfn\u001b[0m\u001b[0;34m(\u001b[0m\u001b[0;34m*\u001b[0m\u001b[0margs\u001b[0m\u001b[0;34m)\u001b[0m\u001b[0;34m\u001b[0m\u001b[0m\n\u001b[0m\u001b[1;32m   1025\u001b[0m     \u001b[0;32mexcept\u001b[0m \u001b[0merrors\u001b[0m\u001b[0;34m.\u001b[0m\u001b[0mOpError\u001b[0m \u001b[0;32mas\u001b[0m \u001b[0me\u001b[0m\u001b[0;34m:\u001b[0m\u001b[0;34m\u001b[0m\u001b[0m\n\u001b[1;32m   1026\u001b[0m       \u001b[0mmessage\u001b[0m \u001b[0;34m=\u001b[0m \u001b[0mcompat\u001b[0m\u001b[0;34m.\u001b[0m\u001b[0mas_text\u001b[0m\u001b[0;34m(\u001b[0m\u001b[0me\u001b[0m\u001b[0;34m.\u001b[0m\u001b[0mmessage\u001b[0m\u001b[0;34m)\u001b[0m\u001b[0;34m\u001b[0m\u001b[0m\n",
        "\u001b[0;32m/usr/local/lib/python3.5/dist-packages/tensorflow/python/client/session.py\u001b[0m in \u001b[0;36m_run_fn\u001b[0;34m(session, feed_dict, fetch_list, target_list, options, run_metadata)\u001b[0m\n\u001b[1;32m   1004\u001b[0m         return tf_session.TF_Run(session, options,\n\u001b[1;32m   1005\u001b[0m                                  \u001b[0mfeed_dict\u001b[0m\u001b[0;34m,\u001b[0m \u001b[0mfetch_list\u001b[0m\u001b[0;34m,\u001b[0m \u001b[0mtarget_list\u001b[0m\u001b[0;34m,\u001b[0m\u001b[0;34m\u001b[0m\u001b[0m\n\u001b[0;32m-> 1006\u001b[0;31m                                  status, run_metadata)\n\u001b[0m\u001b[1;32m   1007\u001b[0m \u001b[0;34m\u001b[0m\u001b[0m\n\u001b[1;32m   1008\u001b[0m     \u001b[0;32mdef\u001b[0m \u001b[0m_prun_fn\u001b[0m\u001b[0;34m(\u001b[0m\u001b[0msession\u001b[0m\u001b[0;34m,\u001b[0m \u001b[0mhandle\u001b[0m\u001b[0;34m,\u001b[0m \u001b[0mfeed_dict\u001b[0m\u001b[0;34m,\u001b[0m \u001b[0mfetch_list\u001b[0m\u001b[0;34m)\u001b[0m\u001b[0;34m:\u001b[0m\u001b[0;34m\u001b[0m\u001b[0m\n",
        "\u001b[0;31mKeyboardInterrupt\u001b[0m: "
       ]
      }
     ],
     "prompt_number": 12
    },
    {
     "cell_type": "heading",
     "level": 6,
     "metadata": {},
     "source": [
      "Evaluate model"
     ]
    },
    {
     "cell_type": "code",
     "collapsed": false,
     "input": [
      "autoencoder.evaluate(train, train, verbose=0)"
     ],
     "language": "python",
     "metadata": {},
     "outputs": []
    },
    {
     "cell_type": "code",
     "collapsed": false,
     "input": [
      "autoencoder.evaluate(valid, valid, verbose=0)"
     ],
     "language": "python",
     "metadata": {},
     "outputs": []
    },
    {
     "cell_type": "code",
     "collapsed": false,
     "input": [
      "autoencoder.evaluate(test, test, verbose=0)"
     ],
     "language": "python",
     "metadata": {},
     "outputs": []
    },
    {
     "cell_type": "heading",
     "level": 6,
     "metadata": {},
     "source": [
      "Visualize the encoder/decoder performance"
     ]
    },
    {
     "cell_type": "code",
     "collapsed": false,
     "input": [
      "def plot_bars(true, decoded):\n",
      "    \n",
      "    n_cols = true.size\n",
      "    \n",
      "    x_axis = np.arange(n_cols)\n",
      "    width = 0.2\n",
      "\n",
      "    fig, ax = plt.subplots(figsize=(20, 20))\n",
      "    \n",
      "    print(\"true size: \" + str(true.shape))\n",
      "    print(\"decoded size: \" + str(decoded.shape))\n",
      "    \n",
      "    rects1 = ax.bar(x_axis, true, width, color=\"r\")\n",
      "    rects2 = ax.bar(x_axis + width, decoded, width, color='b')\n",
      "    ax.legend((rects1[0], rects2[0]), (\"True\", \"Decoded\"))\n",
      "    plt.show()\n",
      "    \n",
      "def encode_decode(index):\n",
      "    single_input = np.reshape(test[index,:],(1,-1))\n",
      "\n",
      "    en = encoder.predict(single_input)\n",
      "    print(en)\n",
      "\n",
      "    dc = decoder.predict(en)\n",
      "\n",
      "    true_input = np.reshape(test[index,:], (-1))\n",
      "    decoded_input = np.reshape(dc, (-1))\n",
      "\n",
      "    print(true_input.shape)\n",
      "    print(decoded_input.shape)\n",
      "\n",
      "\n",
      "    plot_bars(true_input[0:100], decoded_input[0:100])\n",
      "    plot_bars(true_input[100:200], decoded_input[100:200])\n",
      "    plot_bars(true_input[200:300], decoded_input[200:300])\n",
      "    plot_bars(true_input[300:], decoded_input[300:])"
     ],
     "language": "python",
     "metadata": {},
     "outputs": []
    },
    {
     "cell_type": "code",
     "collapsed": false,
     "input": [
      "index_list = [65, 45, 46, 100]\n",
      "\n",
      "for index in index_list:\n",
      "    encode_decode(index)"
     ],
     "language": "python",
     "metadata": {},
     "outputs": []
    },
    {
     "cell_type": "heading",
     "level": 6,
     "metadata": {},
     "source": [
      "Scratchpad"
     ]
    },
    {
     "cell_type": "code",
     "collapsed": false,
     "input": [
      "2946+1263"
     ],
     "language": "python",
     "metadata": {},
     "outputs": []
    },
    {
     "cell_type": "code",
     "collapsed": false,
     "input": [
      "2**10"
     ],
     "language": "python",
     "metadata": {},
     "outputs": []
    },
    {
     "cell_type": "code",
     "collapsed": false,
     "input": [],
     "language": "python",
     "metadata": {},
     "outputs": []
    },
    {
     "cell_type": "code",
     "collapsed": false,
     "input": [
      "a = np.array([[1,2,3],[3,4,5],[4,5,6],[2,3,4]])"
     ],
     "language": "python",
     "metadata": {},
     "outputs": []
    },
    {
     "cell_type": "code",
     "collapsed": false,
     "input": [
      "a.shape"
     ],
     "language": "python",
     "metadata": {},
     "outputs": []
    },
    {
     "cell_type": "code",
     "collapsed": false,
     "input": [
      "np.random.shuffle(a)"
     ],
     "language": "python",
     "metadata": {},
     "outputs": []
    },
    {
     "cell_type": "code",
     "collapsed": false,
     "input": [
      "a"
     ],
     "language": "python",
     "metadata": {},
     "outputs": []
    },
    {
     "cell_type": "code",
     "collapsed": false,
     "input": [
      "np.random.exponential()"
     ],
     "language": "python",
     "metadata": {},
     "outputs": []
    },
    {
     "cell_type": "code",
     "collapsed": false,
     "input": [
      "len(a)"
     ],
     "language": "python",
     "metadata": {},
     "outputs": []
    },
    {
     "cell_type": "code",
     "collapsed": false,
     "input": [
      "np.arange(10)"
     ],
     "language": "python",
     "metadata": {},
     "outputs": []
    },
    {
     "cell_type": "code",
     "collapsed": false,
     "input": [],
     "language": "python",
     "metadata": {},
     "outputs": []
    }
   ],
   "metadata": {}
  }
 ]
}
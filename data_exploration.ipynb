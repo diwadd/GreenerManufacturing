{
 "metadata": {
  "name": "",
  "signature": "sha256:c66c0f256c93c00f52fd0a2dfc668ff94819ca33d60254e08e3ca18593f8964a"
 },
 "nbformat": 3,
 "nbformat_minor": 0,
 "worksheets": [
  {
   "cells": [
    {
     "cell_type": "code",
     "collapsed": false,
     "input": [
      "import csv\n",
      "import pandas as pd\n",
      "import numpy as np\n",
      "\n",
      "from sklearn import preprocessing"
     ],
     "language": "python",
     "metadata": {},
     "outputs": [],
     "prompt_number": 1
    },
    {
     "cell_type": "markdown",
     "metadata": {},
     "source": [
      "# Function definitions"
     ]
    },
    {
     "cell_type": "code",
     "collapsed": false,
     "input": [
      "def read_csv(filename):\n",
      "    with open(filename) as f:\n",
      "        reader = csv.reader(f)\n",
      "        expected_lion_count_list = list(reader)\n",
      "\n",
      "    return np.array(expected_lion_count_list[1:])"
     ],
     "language": "python",
     "metadata": {},
     "outputs": [],
     "prompt_number": 2
    },
    {
     "cell_type": "markdown",
     "metadata": {},
     "source": [
      "# Data - Transform Cathegorical columns"
     ]
    },
    {
     "cell_type": "code",
     "collapsed": false,
     "input": [
      "data_filename = \"train.csv\"\n",
      "data = read_csv(data_filename)"
     ],
     "language": "python",
     "metadata": {},
     "outputs": [],
     "prompt_number": 30
    },
    {
     "cell_type": "code",
     "collapsed": false,
     "input": [
      "data.shape"
     ],
     "language": "python",
     "metadata": {},
     "outputs": [
      {
       "metadata": {},
       "output_type": "pyout",
       "prompt_number": 31,
       "text": [
        "(4209, 378)"
       ]
      }
     ],
     "prompt_number": 31
    },
    {
     "cell_type": "code",
     "collapsed": false,
     "input": [
      "# Column definitions\n",
      "X0 = 2\n",
      "X1 = 3\n",
      "X2 = 4\n",
      "X3 = 5\n",
      "X4 = 6\n",
      "X5 = 7\n",
      "X6 = 8\n",
      "X8 = 9\n",
      "le_X0 = preprocessing.LabelEncoder()\n",
      "le_X1 = preprocessing.LabelEncoder()\n",
      "le_X2 = preprocessing.LabelEncoder()\n",
      "le_X3 = preprocessing.LabelEncoder()\n",
      "le_X4 = preprocessing.LabelEncoder()\n",
      "le_X5 = preprocessing.LabelEncoder()\n",
      "le_X6 = preprocessing.LabelEncoder()\n",
      "le_X8 = preprocessing.LabelEncoder()"
     ],
     "language": "python",
     "metadata": {},
     "outputs": [],
     "prompt_number": 32
    },
    {
     "cell_type": "code",
     "collapsed": false,
     "input": [
      "le_X0.fit(np.unique(data[:,X0]))\n",
      "le_X1.fit(np.unique(data[:,X1]))\n",
      "le_X2.fit(np.unique(data[:,X2]))\n",
      "le_X3.fit(np.unique(data[:,X3]))\n",
      "le_X4.fit(np.unique(data[:,X4]))\n",
      "le_X5.fit(np.unique(data[:,X5]))\n",
      "le_X6.fit(np.unique(data[:,X6]))\n",
      "le_X8.fit(np.unique(data[:,X8]));"
     ],
     "language": "python",
     "metadata": {},
     "outputs": [],
     "prompt_number": 33
    },
    {
     "cell_type": "code",
     "collapsed": false,
     "input": [
      "data[:,X0] = le_X0.transform(data[:,X0])\n",
      "data[:,X1] = le_X1.transform(data[:,X1])\n",
      "data[:,X2] = le_X2.transform(data[:,X2])\n",
      "data[:,X3] = le_X3.transform(data[:,X3])\n",
      "data[:,X4] = le_X4.transform(data[:,X4])\n",
      "data[:,X5] = le_X5.transform(data[:,X5])\n",
      "data[:,X6] = le_X6.transform(data[:,X6])\n",
      "data[:,X8] = le_X8.transform(data[:,X8])"
     ],
     "language": "python",
     "metadata": {},
     "outputs": [],
     "prompt_number": 34
    },
    {
     "cell_type": "code",
     "collapsed": false,
     "input": [
      "print(data[0:10,0:11])"
     ],
     "language": "python",
     "metadata": {},
     "outputs": [
      {
       "output_type": "stream",
       "stream": "stdout",
       "text": [
        "[['0' '130.81' '32' '23' '17' '0' '3' '24' '9' '14' '0']\n",
        " ['6' '88.53' '32' '21' '19' '4' '3' '28' '11' '14' '0']\n",
        " ['7' '76.26' '20' '24' '34' '2' '3' '27' '9' '23' '0']\n",
        " ['9' '80.62' '20' '21' '34' '5' '3' '27' '11' '4' '0']\n",
        " ['13' '78.02' '20' '23' '34' '5' '3' '12' '3' '13' '0']\n",
        " ['18' '92.93' '40' '3' '25' '2' '3' '11' '7' '18' '0']\n",
        " ['24' '128.76' '9' '19' '25' '5' '3' '10' '7' '18' '0']\n",
        " ['25' '91.91' '36' '13' '16' '5' '3' '10' '9' '0' '0']\n",
        " ['27' '108.67' '43' '20' '16' '4' '3' '10' '8' '7' '0']\n",
        " ['30' '126.99' '31' '3' '14' '2' '3' '10' '0' '4' '0']]\n"
       ]
      }
     ],
     "prompt_number": 38
    },
    {
     "cell_type": "markdown",
     "metadata": {},
     "source": [
      "# Data Exploration"
     ]
    },
    {
     "cell_type": "code",
     "collapsed": false,
     "input": [],
     "language": "python",
     "metadata": {},
     "outputs": []
    }
   ],
   "metadata": {}
  }
 ]
}
{
 "metadata": {
  "name": "",
  "signature": "sha256:eb1d3a579a479c82f34f08093165997492af74071bf6d41aa8836849faf8d9cd"
 },
 "nbformat": 3,
 "nbformat_minor": 0,
 "worksheets": [
  {
   "cells": [
    {
     "cell_type": "code",
     "collapsed": false,
     "input": [
      "import numpy as np\n",
      "\n",
      "from keras.layers import Input, Dense, Dropout\n",
      "from keras.layers.advanced_activations import LeakyReLU\n",
      "from keras.models import Model, Sequential\n",
      "import keras.backend as K\n",
      "\n",
      "from keras.models import load_model"
     ],
     "language": "python",
     "metadata": {},
     "outputs": [],
     "prompt_number": 321
    },
    {
     "cell_type": "heading",
     "level": 6,
     "metadata": {},
     "source": [
      "Load the data"
     ]
    },
    {
     "cell_type": "code",
     "collapsed": false,
     "input": [
      "features_ID_y = np.genfromtxt(\"features_ID_y.csv\", delimiter=',')\n",
      "np.random.shuffle(features_ID_y)\n",
      "n_rows, n_cols = features_ID_y.shape\n",
      "print(features_ID_y[0,0:5])\n",
      "print(features_ID_y[1,0:5])\n",
      "print(\"Number of rows: \" + str(n_rows))\n",
      "print(\"Number of cols: \" + str(n_cols))"
     ],
     "language": "python",
     "metadata": {},
     "outputs": [
      {
       "output_type": "stream",
       "stream": "stdout",
       "text": [
        "[ 6386.            99.83999634    27.            13.            16.        ]\n",
        "[ 968.           88.56999969   40.            3.            8.        ]\n",
        "Number of rows: 4209\n",
        "Number of cols: 366\n"
       ]
      }
     ],
     "prompt_number": 322
    },
    {
     "cell_type": "heading",
     "level": 6,
     "metadata": {},
     "source": [
      "Load the encoder"
     ]
    },
    {
     "cell_type": "code",
     "collapsed": false,
     "input": [
      "model_file = \"encoder_mean_absolute_error.h5\"\n",
      "encoder = load_model(model_file)"
     ],
     "language": "python",
     "metadata": {},
     "outputs": [],
     "prompt_number": 323
    },
    {
     "cell_type": "code",
     "collapsed": false,
     "input": [
      "encoded_features = encoder.predict(features_ID_y[:,2:])\n",
      "print(encoded_features.shape)"
     ],
     "language": "python",
     "metadata": {},
     "outputs": [
      {
       "output_type": "stream",
       "stream": "stdout",
       "text": [
        "(4209, 16)\n"
       ]
      }
     ],
     "prompt_number": 324
    },
    {
     "cell_type": "code",
     "collapsed": false,
     "input": [
      "encoded_features[0,:]"
     ],
     "language": "python",
     "metadata": {},
     "outputs": [
      {
       "metadata": {},
       "output_type": "pyout",
       "prompt_number": 325,
       "text": [
        "array([ 1.23317087, -0.11980146,  1.01925516,  0.7877779 , -0.01164967,\n",
        "        2.13502717, -0.23674707, -0.07489502, -0.19544871, -0.00952469,\n",
        "        0.6918366 ,  0.85706562, -1.69888175, -0.24385431,  0.02026474,\n",
        "       -0.52695876], dtype=float32)"
       ]
      }
     ],
     "prompt_number": 325
    },
    {
     "cell_type": "heading",
     "level": 6,
     "metadata": {},
     "source": [
      "Loss function"
     ]
    },
    {
     "cell_type": "code",
     "collapsed": false,
     "input": [
      "def R2(y_true, y_pred):\n",
      "    S_res = K.sum(K.square(y_true - y_pred))\n",
      "    y_bar = K.mean(y_true)\n",
      "    S_tot = K.sum(K.square(y_true - y_bar))\n",
      "    return -(1.0 - (S_res/S_tot))\n",
      "\n",
      "def R2_np(y_true, y_pred):\n",
      "    S_res = np.sum((y_true - y_pred)*(y_true - y_pred))\n",
      "    y_bar = np.mean(y_true)\n",
      "    S_tot = np.sum((y_true - y_bar)*(y_true - y_bar))\n",
      "    return (1.0 - (S_res/S_tot))"
     ],
     "language": "python",
     "metadata": {},
     "outputs": [],
     "prompt_number": 326
    },
    {
     "cell_type": "code",
     "collapsed": false,
     "input": [
      "a1 = K.random_normal_variable(shape=(3, 1), mean=0.0, scale=1.0) \n",
      "a2 = K.random_normal_variable(shape=(3, 1), mean=0.0, scale=1.0)\n",
      "\n",
      "r = R2(a1, a2)\n",
      "K.eval(r)"
     ],
     "language": "python",
     "metadata": {},
     "outputs": [
      {
       "metadata": {},
       "output_type": "pyout",
       "prompt_number": 327,
       "text": [
        "-0.82642251"
       ]
      }
     ],
     "prompt_number": 327
    },
    {
     "cell_type": "code",
     "collapsed": false,
     "input": [
      "b1 = np.array([1,2,3,4])\n",
      "b2 = np.array([1,2.1,3,3.9])\n",
      "\n",
      "R2_np(b1, b2)"
     ],
     "language": "python",
     "metadata": {},
     "outputs": [
      {
       "metadata": {},
       "output_type": "pyout",
       "prompt_number": 328,
       "text": [
        "0.996"
       ]
      }
     ],
     "prompt_number": 328
    },
    {
     "cell_type": "heading",
     "level": 6,
     "metadata": {},
     "source": [
      "Simple Network"
     ]
    },
    {
     "cell_type": "code",
     "collapsed": false,
     "input": [
      "class Network:\n",
      "    \n",
      "    def __init__(self, \n",
      "                 input_shape=16, \n",
      "                 output_shape=1, \n",
      "                 layers = []):\n",
      "\n",
      "        dropout_rate = 0.1\n",
      "        alpha = 0.3\n",
      "        \n",
      "        model_input = Input(shape=(input_shape,))\n",
      "        x = model_input\n",
      "        for l in range(len(layers)):\n",
      "            x = Dense(layers[l], activation=\"linear\")(x)\n",
      "            x = LeakyReLU(alpha=alpha)(x)\n",
      "            x = Dropout(dropout_rate)(x)\n",
      "        \n",
      "        x = Dense(output_shape, activation='linear')(x)\n",
      "        \n",
      "        self.model = Model(model_input, x)\n",
      "        self.model.compile(optimizer=\"adadelta\", loss=R2)\n",
      "        \n",
      "    def fit(self, x, y, xv, yv, batch_size=128, epochs=100, verbose=0):\n",
      "        self.model.fit(x=x, \n",
      "                       y=y, \n",
      "                       batch_size=batch_size, \n",
      "                       epochs=epochs, \n",
      "                       verbose=verbose,\n",
      "                       validation_data=(xv, yv))\n",
      "        \n",
      "    def predict(self, x, batch_size=128):\n",
      "        return self.model.predict(x, batch_size=batch_size)\n",
      "    \n",
      "    def evaluate(self, x, y, verbose=0):\n",
      "        return self.model.evaluate(x=x, y=y, verbose=verbose)\n",
      "        "
     ],
     "language": "python",
     "metadata": {},
     "outputs": [],
     "prompt_number": 329
    },
    {
     "cell_type": "code",
     "collapsed": false,
     "input": [
      "network_model = Network(layers=[32, 32, 32, 32])\n",
      "network_model.model.summary()"
     ],
     "language": "python",
     "metadata": {},
     "outputs": [
      {
       "output_type": "stream",
       "stream": "stdout",
       "text": [
        "_________________________________________________________________\n",
        "Layer (type)                 Output Shape              Param #   \n",
        "=================================================================\n",
        "input_21 (InputLayer)        (None, 16)                0         \n",
        "_________________________________________________________________\n",
        "dense_67 (Dense)             (None, 32)                544       \n",
        "_________________________________________________________________\n",
        "leaky_re_lu_47 (LeakyReLU)   (None, 32)                0         \n",
        "_________________________________________________________________\n",
        "dropout_47 (Dropout)         (None, 32)                0         \n",
        "_________________________________________________________________\n",
        "dense_68 (Dense)             (None, 32)                1056      \n",
        "_________________________________________________________________\n",
        "leaky_re_lu_48 (LeakyReLU)   (None, 32)                0         \n",
        "_________________________________________________________________\n",
        "dropout_48 (Dropout)         (None, 32)                0         \n",
        "_________________________________________________________________\n",
        "dense_69 (Dense)             (None, 32)                1056      \n",
        "_________________________________________________________________\n",
        "leaky_re_lu_49 (LeakyReLU)   (None, 32)                0         \n",
        "_________________________________________________________________\n",
        "dropout_49 (Dropout)         (None, 32)                0         \n",
        "_________________________________________________________________\n",
        "dense_70 (Dense)             (None, 32)                1056      \n",
        "_________________________________________________________________\n",
        "leaky_re_lu_50 (LeakyReLU)   (None, 32)                0         \n",
        "_________________________________________________________________\n",
        "dropout_50 (Dropout)         (None, 32)                0         \n",
        "_________________________________________________________________\n",
        "dense_71 (Dense)             (None, 1)                 33        \n",
        "=================================================================\n",
        "Total params: 3,745\n",
        "Trainable params: 3,745\n",
        "Non-trainable params: 0\n",
        "_________________________________________________________________\n"
       ]
      }
     ],
     "prompt_number": 330
    },
    {
     "cell_type": "heading",
     "level": 6,
     "metadata": {},
     "source": [
      "Prepare the data"
     ]
    },
    {
     "cell_type": "code",
     "collapsed": false,
     "input": [
      "def test_train_validation(features, ts, vs):\n",
      "\n",
      "    train = features[0:int((1 - ts)*n_rows),:]\n",
      "    test = features[int((1 - ts)*n_rows):,:]\n",
      "\n",
      "    # Half of the test set will serve as the validation set.\n",
      "    # The other half will be the test set.\n",
      "    valid = test[0:int(len(test)/2),:]\n",
      "    test = test[int(len(test)/2):,:]\n",
      "\n",
      "    n_rows_train, n_cols_train = train.shape\n",
      "    n_rows_valid, n_cols_valid = valid.shape\n",
      "    n_rows_test, n_cols_test = test.shape\n",
      "    \n",
      "    return train, valid, test"
     ],
     "language": "python",
     "metadata": {},
     "outputs": [],
     "prompt_number": 331
    },
    {
     "cell_type": "code",
     "collapsed": false,
     "input": [
      "y = np.reshape(features_ID_y[:,1],(-1, 1))\n",
      "temporary_features = np.hstack((y, encoded_features))\n",
      "\n",
      "ts = 0.2 # Test size\n",
      "vs = 0.5 # Validation data size (as % of the test data)\n",
      "\n",
      "train, valid, test = test_train_validation(temporary_features, ts, vs)\n",
      "\n",
      "y_train = train[:, 0]\n",
      "x_train = train[:, 1:]\n",
      "\n",
      "y_valid = valid[:, 0]\n",
      "x_valid = valid[:, 1:]\n",
      "\n",
      "y_test = test[:, 0]\n",
      "x_test = test[:, 1:]\n",
      "\n",
      "print(\"x_train shape: \" + str(x_train.shape))\n",
      "print(\"x_valid shape: \" + str(x_valid.shape))\n",
      "print(\"x_test shape: \" + str(x_test.shape))\n",
      "print()\n",
      "print(\"y_train shape: \" + str(y_train.shape))\n",
      "print(\"y_valid shape: \" + str(y_valid.shape))\n",
      "print(\"y_test shape: \" + str(y_test.shape))"
     ],
     "language": "python",
     "metadata": {},
     "outputs": [
      {
       "output_type": "stream",
       "stream": "stdout",
       "text": [
        "x_train shape: (3367, 16)\n",
        "x_valid shape: (421, 16)\n",
        "x_test shape: (421, 16)\n",
        "\n",
        "y_train shape: (3367,)\n",
        "y_valid shape: (421,)\n",
        "y_test shape: (421,)\n"
       ]
      }
     ],
     "prompt_number": 332
    },
    {
     "cell_type": "heading",
     "level": 6,
     "metadata": {},
     "source": [
      "Train the model"
     ]
    },
    {
     "cell_type": "code",
     "collapsed": false,
     "input": [
      "network_model.fit(x_train, y_train, x_valid, y_valid, epochs=400, verbose=0)"
     ],
     "language": "python",
     "metadata": {},
     "outputs": [],
     "prompt_number": 333
    },
    {
     "cell_type": "code",
     "collapsed": false,
     "input": [
      "y_valid_pred = network_model.predict(x_valid)\n",
      "R2_np(np.reshape(y_valid, (-1, 1)), y_valid_pred)"
     ],
     "language": "python",
     "metadata": {},
     "outputs": [
      {
       "metadata": {},
       "output_type": "pyout",
       "prompt_number": 334,
       "text": [
        "0.50660209049832594"
       ]
      }
     ],
     "prompt_number": 334
    },
    {
     "cell_type": "code",
     "collapsed": false,
     "input": [
      "y_test_pred = network_model.predict(x_test)\n",
      "R2_np(np.reshape(y_test, (-1, 1)), y_test_pred)"
     ],
     "language": "python",
     "metadata": {},
     "outputs": [
      {
       "metadata": {},
       "output_type": "pyout",
       "prompt_number": 335,
       "text": [
        "0.59735536722360061"
       ]
      }
     ],
     "prompt_number": 335
    },
    {
     "cell_type": "code",
     "collapsed": false,
     "input": [
      "print(np.reshape(y_valid[0:10], (1, -1)))\n",
      "print(np.reshape(y_valid_pred[0:10], (1, -1)))"
     ],
     "language": "python",
     "metadata": {},
     "outputs": [
      {
       "output_type": "stream",
       "stream": "stdout",
       "text": [
        "[[  92.34999847  110.23999786  104.33999634  123.88999939   98.63999939\n",
        "   112.47000122   88.98000336  141.08999634  101.90000153  104.27999878]]\n",
        "[[  95.17781067  111.43479156  101.15692139   96.36244202  102.77758026\n",
        "   110.42264557   95.39056396   98.6710968   102.12008667  108.95832825]]\n"
       ]
      }
     ],
     "prompt_number": 347
    },
    {
     "cell_type": "heading",
     "level": 6,
     "metadata": {},
     "source": [
      "Dispatch on real test data"
     ]
    },
    {
     "cell_type": "code",
     "collapsed": false,
     "input": [],
     "language": "python",
     "metadata": {},
     "outputs": [],
     "prompt_number": 336
    },
    {
     "cell_type": "code",
     "collapsed": false,
     "input": [],
     "language": "python",
     "metadata": {},
     "outputs": [],
     "prompt_number": 336
    }
   ],
   "metadata": {}
  }
 ]
}
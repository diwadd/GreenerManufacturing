{
 "metadata": {
  "name": "",
  "signature": "sha256:6c653864d8d98ed060a8ac566a8169c090d80510943f5e208f889c062d2a2b45"
 },
 "nbformat": 3,
 "nbformat_minor": 0,
 "worksheets": [
  {
   "cells": [
    {
     "cell_type": "code",
     "collapsed": false,
     "input": [
      "import numpy as np\n",
      "\n",
      "from keras.layers import Input, Dense, Dropout\n",
      "from keras.layers.advanced_activations import LeakyReLU\n",
      "from keras.models import Model, Sequential\n",
      "import keras.backend as K\n",
      "\n",
      "from keras.models import load_model"
     ],
     "language": "python",
     "metadata": {},
     "outputs": [],
     "prompt_number": 29
    },
    {
     "cell_type": "heading",
     "level": 6,
     "metadata": {},
     "source": [
      "Load the data"
     ]
    },
    {
     "cell_type": "code",
     "collapsed": false,
     "input": [
      "features_ID_y = np.genfromtxt(\"features_ID_y.csv\", delimiter=',')\n",
      "#np.random.shuffle(features_ID_y)\n",
      "n_rows, n_cols = features_ID_y.shape\n",
      "print(features_ID_y[0:10,0:5])\n",
      "print(\"Number of rows: \" + str(n_rows))\n",
      "print(\"Number of cols: \" + str(n_cols))"
     ],
     "language": "python",
     "metadata": {},
     "outputs": [
      {
       "output_type": "stream",
       "stream": "stdout",
       "text": [
        "[[   0.          130.80999756   32.           23.           17.        ]\n",
        " [   6.           88.52999878   32.           21.           19.        ]\n",
        " [   7.           76.26000214   20.           24.           34.        ]\n",
        " [   9.           80.62000275   20.           21.           34.        ]\n",
        " [  13.           78.01999664   20.           23.           34.        ]\n",
        " [  18.           92.93000031   40.            3.           25.        ]\n",
        " [  24.          128.75999451    9.           19.           25.        ]\n",
        " [  25.           91.91000366   36.           13.           16.        ]\n",
        " [  27.          108.66999817   43.           20.           16.        ]\n",
        " [  30.          126.98999786   31.            3.           14.        ]]\n",
        "Number of rows: 4209\n",
        "Number of cols: 366\n"
       ]
      }
     ],
     "prompt_number": 33
    },
    {
     "cell_type": "heading",
     "level": 6,
     "metadata": {},
     "source": [
      "Load the encoder"
     ]
    },
    {
     "cell_type": "code",
     "collapsed": false,
     "input": [
      "model_file = \"encoder_mean_absolute_error.h5\"\n",
      "model_file = \"encoder_mean_absolute_error_dim_2.h5\"\n",
      "encoder = load_model(model_file)"
     ],
     "language": "python",
     "metadata": {},
     "outputs": [],
     "prompt_number": 34
    },
    {
     "cell_type": "code",
     "collapsed": false,
     "input": [
      "encoded_features = encoder.predict(features_ID_y[:,2:])\n",
      "print(encoded_features.shape)"
     ],
     "language": "python",
     "metadata": {},
     "outputs": [
      {
       "output_type": "stream",
       "stream": "stdout",
       "text": [
        "(4209, 32)\n"
       ]
      }
     ],
     "prompt_number": 35
    },
    {
     "cell_type": "heading",
     "level": 6,
     "metadata": {},
     "source": [
      "Loss function"
     ]
    },
    {
     "cell_type": "code",
     "collapsed": false,
     "input": [
      "def R2(y_true, y_pred):\n",
      "    S_res = K.sum(K.square(y_true - y_pred))\n",
      "    y_bar = K.mean(y_true)\n",
      "    S_tot = K.sum(K.square(y_true - y_bar))\n",
      "    return -(1.0 - (S_res/S_tot))\n",
      "\n",
      "def R2_np(y_true, y_pred):\n",
      "    S_res = np.sum((y_true - y_pred)*(y_true - y_pred))\n",
      "    y_bar = np.mean(y_true)\n",
      "    S_tot = np.sum((y_true - y_bar)*(y_true - y_bar))\n",
      "    return (1.0 - (S_res/S_tot))"
     ],
     "language": "python",
     "metadata": {},
     "outputs": [],
     "prompt_number": 36
    },
    {
     "cell_type": "code",
     "collapsed": false,
     "input": [
      "a1 = K.random_normal_variable(shape=(3, 1), mean=0.0, scale=1.0) \n",
      "a2 = K.random_normal_variable(shape=(3, 1), mean=0.0, scale=1.0)\n",
      "\n",
      "r = R2(a1, a2)\n",
      "K.eval(r)"
     ],
     "language": "python",
     "metadata": {},
     "outputs": [
      {
       "metadata": {},
       "output_type": "pyout",
       "prompt_number": 37,
       "text": [
        "-0.58814114"
       ]
      }
     ],
     "prompt_number": 37
    },
    {
     "cell_type": "code",
     "collapsed": false,
     "input": [
      "b1 = np.array([1,2,3,4])\n",
      "b2 = np.array([1,2.1,3,3.9])\n",
      "\n",
      "R2_np(b1, b2)"
     ],
     "language": "python",
     "metadata": {},
     "outputs": [
      {
       "metadata": {},
       "output_type": "pyout",
       "prompt_number": 38,
       "text": [
        "0.996"
       ]
      }
     ],
     "prompt_number": 38
    },
    {
     "cell_type": "heading",
     "level": 6,
     "metadata": {},
     "source": [
      "Simple Network"
     ]
    },
    {
     "cell_type": "code",
     "collapsed": false,
     "input": [
      "class Network:\n",
      "    \n",
      "    def __init__(self, \n",
      "                 input_shape=16, \n",
      "                 output_shape=1, \n",
      "                 layers = []):\n",
      "\n",
      "        dropout_rate = 0.1\n",
      "        alpha = 0.3\n",
      "        \n",
      "        model_input = Input(shape=(input_shape,))\n",
      "        x = model_input\n",
      "        for l in range(len(layers)):\n",
      "            x = Dense(layers[l], activation=\"linear\")(x)\n",
      "            x = LeakyReLU(alpha=alpha)(x)\n",
      "            x = Dropout(dropout_rate)(x)\n",
      "        \n",
      "        x = Dense(output_shape, activation='linear')(x)\n",
      "        \n",
      "        self.model = Model(model_input, x)\n",
      "        self.model.compile(optimizer=\"adadelta\", loss=R2)\n",
      "        \n",
      "    def fit(self, x, y, xv, yv, batch_size=128, epochs=100, verbose=0):\n",
      "        self.model.fit(x=x, \n",
      "                       y=y, \n",
      "                       batch_size=batch_size, \n",
      "                       epochs=epochs, \n",
      "                       verbose=verbose,\n",
      "                       validation_data=(xv, yv))\n",
      "        \n",
      "    def predict(self, x, batch_size=128):\n",
      "        return self.model.predict(x, batch_size=batch_size)\n",
      "    \n",
      "    def evaluate(self, x, y, verbose=0):\n",
      "        return self.model.evaluate(x=x, y=y, verbose=verbose)\n",
      "        "
     ],
     "language": "python",
     "metadata": {},
     "outputs": [],
     "prompt_number": 40
    },
    {
     "cell_type": "code",
     "collapsed": false,
     "input": [
      "network_model = Network(input_shape=364, layers=[32, 32, 32, 32])\n",
      "network_model.model.summary()"
     ],
     "language": "python",
     "metadata": {},
     "outputs": [
      {
       "output_type": "stream",
       "stream": "stdout",
       "text": [
        "_________________________________________________________________\n",
        "Layer (type)                 Output Shape              Param #   \n",
        "=================================================================\n",
        "input_77 (InputLayer)        (None, 364)               0         \n",
        "_________________________________________________________________\n",
        "dense_381 (Dense)            (None, 32)                11680     \n",
        "_________________________________________________________________\n",
        "leaky_re_lu_305 (LeakyReLU)  (None, 32)                0         \n",
        "_________________________________________________________________\n",
        "dropout_305 (Dropout)        (None, 32)                0         \n",
        "_________________________________________________________________\n",
        "dense_382 (Dense)            (None, 32)                1056      \n",
        "_________________________________________________________________\n",
        "leaky_re_lu_306 (LeakyReLU)  (None, 32)                0         \n",
        "_________________________________________________________________\n",
        "dropout_306 (Dropout)        (None, 32)                0         \n",
        "_________________________________________________________________\n",
        "dense_383 (Dense)            (None, 32)                1056      \n",
        "_________________________________________________________________\n",
        "leaky_re_lu_307 (LeakyReLU)  (None, 32)                0         \n",
        "_________________________________________________________________\n",
        "dropout_307 (Dropout)        (None, 32)                0         \n",
        "_________________________________________________________________\n",
        "dense_384 (Dense)            (None, 32)                1056      \n",
        "_________________________________________________________________\n",
        "leaky_re_lu_308 (LeakyReLU)  (None, 32)                0         \n",
        "_________________________________________________________________\n",
        "dropout_308 (Dropout)        (None, 32)                0         \n",
        "_________________________________________________________________\n",
        "dense_385 (Dense)            (None, 1)                 33        \n",
        "=================================================================\n",
        "Total params: 14,881\n",
        "Trainable params: 14,881\n",
        "Non-trainable params: 0\n",
        "_________________________________________________________________\n"
       ]
      }
     ],
     "prompt_number": 41
    },
    {
     "cell_type": "heading",
     "level": 6,
     "metadata": {},
     "source": [
      "Many model cross validation approach"
     ]
    },
    {
     "cell_type": "code",
     "collapsed": false,
     "input": [
      "def corss_validation(data,\n",
      "                     n_sections,\n",
      "                     ts=0.2,\n",
      "                     epochs=10,\n",
      "                     layers=[32, 32, 32, 32]):\n",
      "    n_sections = 10\n",
      "    n_rows = len(data)\n",
      "    step = int(n_rows/n_sections)\n",
      "    ptr = 0\n",
      "    network_models = []\n",
      "    \n",
      "    \n",
      "    train_valid = data[0:int((1 - ts)*n_rows),:]\n",
      "    test = data[int((1 - ts)*n_rows):,:]\n",
      "    \n",
      "    y_test = test[:, 0]\n",
      "    x_test = test[:, 1:]\n",
      "    y_test = np.reshape(y_test, (-1, 1))\n",
      "    y_test_pred_avarage = np.zeros((len(y_test), 1))\n",
      "    \n",
      "    print(\"train_valid shape: \" + str(train_valid.shape))\n",
      "    print(\"test shape: \" + str(test.shape))\n",
      "    \n",
      "    for i in range(n_sections):\n",
      "        print(\"In section i = \" + str(i))\n",
      "        \n",
      "        local_valid = train_valid[ptr:(ptr + step), :]\n",
      "\n",
      "        rows_to_delete = np.arange(ptr, ptr + step)\n",
      "        local_train = np.delete(train_valid, rows_to_delete, 0)\n",
      "        ptr = ptr + step\n",
      "        \n",
      "        y_valid = local_valid[:, 0]\n",
      "        x_valid = local_valid[:, 1:]\n",
      "        \n",
      "        y_train = local_train[:, 0]\n",
      "        x_train = local_train[:, 1:]\n",
      "        \n",
      "        lrv, lcv = x_valid.shape\n",
      "        lrt, lct = x_train.shape\n",
      "        \n",
      "        if (lcv != lct):\n",
      "            print(\"x_valid and x_train dimension mismatch!\")\n",
      "            break\n",
      "        \n",
      "        local_network_model = Network(input_shape=lcv, layers=layers)\n",
      "        local_network_model.fit(x_train, \n",
      "                                y_train, \n",
      "                                x_valid, \n",
      "                                y_valid, \n",
      "                                epochs=epochs, \n",
      "                                verbose=0)\n",
      "        \n",
      "        y_valid_pred = local_network_model.predict(x_valid)\n",
      "        y_train_pred = local_network_model.predict(x_train)\n",
      "        \n",
      "        y_valid = np.reshape(y_valid, (-1, 1))\n",
      "        local_valid_R2 = R2_np(y_valid, y_valid_pred)\n",
      "        \n",
      "        y_train = np.reshape(y_train, (-1, 1))\n",
      "        local_train_R2 = R2_np(y_train, y_train_pred)\n",
      "        \n",
      "        print(\"local_valid_R2: \" + str(local_valid_R2))\n",
      "        print(\"local_train_R2: \" + str(local_train_R2))\n",
      "        print(\"local_valid shape: \" + str(local_valid.shape))\n",
      "        print(\"local_train shape: \" + str(local_train.shape))\n",
      "        \n",
      "        network_models.append(local_network_model)\n",
      "    \n",
      "    \n",
      "        y_test_pred = local_network_model.predict(x_test)\n",
      "        local_test_R2 = R2_np(y_test, y_test_pred)\n",
      "        \n",
      "        y_test_pred_avarage = y_test_pred_avarage + y_test_pred\n",
      "        print(\"local_test_R2: \" + str(local_test_R2))\n",
      "        \n",
      "    y_test_pred_avarage = y_test_pred_avarage/n_sections\n",
      "    average_R2 = R2_np(y_test, y_test_pred_avarage)\n",
      "    print(\"average R2: \" + str(average_R2))\n",
      "    \n",
      "    return network_models"
     ],
     "language": "python",
     "metadata": {},
     "outputs": [],
     "prompt_number": 75
    },
    {
     "cell_type": "code",
     "collapsed": false,
     "input": [
      "y = np.reshape(features_ID_y[:,1],(-1, 1))\n",
      "features_y = np.hstack((y, encoded_features))\n",
      "\n",
      "corss_validation(data=features_y, \n",
      "                 n_sections=10,\n",
      "                 ts=0.1,\n",
      "                 epochs=400,\n",
      "                 layers=[32, 32, 32, 32])"
     ],
     "language": "python",
     "metadata": {},
     "outputs": [
      {
       "output_type": "stream",
       "stream": "stdout",
       "text": [
        "train_valid shape: (3788, 33)\n",
        "test shape: (421, 33)\n",
        "In section i = 0\n",
        "local_valid_R2: 0.56370055305"
       ]
      },
      {
       "output_type": "stream",
       "stream": "stdout",
       "text": [
        "\n",
        "local_train_R2: 0.540940766801\n",
        "local_valid shape: (420, 33)\n",
        "local_train shape: (3368, 33)\n",
        "local_test_R2: 0.675627975043\n",
        "In section i = 1\n",
        "local_valid_R2: 0.597834088995"
       ]
      },
      {
       "output_type": "stream",
       "stream": "stdout",
       "text": [
        "\n",
        "local_train_R2: 0.534044764567\n",
        "local_valid shape: (420, 33)\n",
        "local_train shape: (3368, 33)\n",
        "local_test_R2: 0.665600732727\n",
        "In section i = 2\n",
        "local_valid_R2: 0.315831558639"
       ]
      },
      {
       "output_type": "stream",
       "stream": "stdout",
       "text": [
        "\n",
        "local_train_R2: 0.563398763206\n",
        "local_valid shape: (420, 33)\n",
        "local_train shape: (3368, 33)\n",
        "local_test_R2: 0.676140912358\n",
        "In section i = 3\n",
        "local_valid_R2: 0.518585524566"
       ]
      },
      {
       "output_type": "stream",
       "stream": "stdout",
       "text": [
        "\n",
        "local_train_R2: 0.548417270457\n",
        "local_valid shape: (420, 33)\n",
        "local_train shape: (3368, 33)\n",
        "local_test_R2: 0.625569797387\n",
        "In section i = 4\n",
        "local_valid_R2: 0.639285645758"
       ]
      },
      {
       "output_type": "stream",
       "stream": "stdout",
       "text": [
        "\n",
        "local_train_R2: 0.512661878273\n",
        "local_valid shape: (420, 33)\n",
        "local_train shape: (3368, 33)\n",
        "local_test_R2: 0.677196452358\n",
        "In section i = 5\n",
        "local_valid_R2: 0.464144334462"
       ]
      },
      {
       "output_type": "stream",
       "stream": "stdout",
       "text": [
        "\n",
        "local_train_R2: 0.524432747502\n",
        "local_valid shape: (420, 33)\n",
        "local_train shape: (3368, 33)\n",
        "local_test_R2: 0.670752596818\n",
        "In section i = 6\n",
        "local_valid_R2: 0.391534673826"
       ]
      },
      {
       "output_type": "stream",
       "stream": "stdout",
       "text": [
        "\n",
        "local_train_R2: 0.501129822609\n",
        "local_valid shape: (420, 33)\n",
        "local_train shape: (3368, 33)\n",
        "local_test_R2: 0.675514960249\n",
        "In section i = 7\n",
        "local_valid_R2: 0.58534709795"
       ]
      },
      {
       "output_type": "stream",
       "stream": "stdout",
       "text": [
        "\n",
        "local_train_R2: 0.548338052701\n",
        "local_valid shape: (420, 33)\n",
        "local_train shape: (3368, 33)\n",
        "local_test_R2: 0.6496955371\n",
        "In section i = 8\n",
        "local_valid_R2: 0.587829603401"
       ]
      },
      {
       "output_type": "stream",
       "stream": "stdout",
       "text": [
        "\n",
        "local_train_R2: 0.542648227472\n",
        "local_valid shape: (420, 33)\n",
        "local_train shape: (3368, 33)\n",
        "local_test_R2: 0.625974296224\n",
        "In section i = 9\n",
        "local_valid_R2: 0.853362070391"
       ]
      },
      {
       "output_type": "stream",
       "stream": "stdout",
       "text": [
        "\n",
        "local_train_R2: 0.538347032832\n",
        "local_valid shape: (8, 33)\n",
        "local_train shape: (3780, 33)\n",
        "local_test_R2: 0.678893836592\n",
        "average R2: 0.674053261818\n"
       ]
      },
      {
       "metadata": {},
       "output_type": "pyout",
       "prompt_number": 77,
       "text": [
        "[<__main__.Network at 0x7f1878eb8c50>,\n",
        " <__main__.Network at 0x7f18789bf048>,\n",
        " <__main__.Network at 0x7f18784471d0>,\n",
        " <__main__.Network at 0x7f18772dfd68>,\n",
        " <__main__.Network at 0x7f1876a6fdd8>,\n",
        " <__main__.Network at 0x7f187660c9e8>,\n",
        " <__main__.Network at 0x7f1876113f60>,\n",
        " <__main__.Network at 0x7f1875c19cc0>,\n",
        " <__main__.Network at 0x7f1875712588>,\n",
        " <__main__.Network at 0x7f1874fdcdd8>]"
       ]
      }
     ],
     "prompt_number": 77
    },
    {
     "cell_type": "code",
     "collapsed": false,
     "input": [
      "420+3789"
     ],
     "language": "python",
     "metadata": {},
     "outputs": [
      {
       "metadata": {},
       "output_type": "pyout",
       "prompt_number": 16,
       "text": [
        "4209"
       ]
      }
     ],
     "prompt_number": 16
    },
    {
     "cell_type": "heading",
     "level": 6,
     "metadata": {},
     "source": [
      "Prepare the data"
     ]
    },
    {
     "cell_type": "code",
     "collapsed": false,
     "input": [
      "def test_train_validation(features, ts, vs):\n",
      "\n",
      "    train = features[0:int((1 - ts)*n_rows),:]\n",
      "    test = features[int((1 - ts)*n_rows):,:]\n",
      "\n",
      "    # Half of the test set will serve as the validation set.\n",
      "    # The other half will be the test set.\n",
      "    valid = test[0:int(len(test)/2),:]\n",
      "    test = test[int(len(test)/2):,:]\n",
      "\n",
      "    n_rows_train, n_cols_train = train.shape\n",
      "    n_rows_valid, n_cols_valid = valid.shape\n",
      "    n_rows_test, n_cols_test = test.shape\n",
      "    \n",
      "    return train, valid, test"
     ],
     "language": "python",
     "metadata": {},
     "outputs": [],
     "prompt_number": 66
    },
    {
     "cell_type": "code",
     "collapsed": false,
     "input": [
      "y = np.reshape(features_ID_y[:,1],(-1, 1))\n",
      "temporary_features = np.hstack((y, encoded_features))\n",
      "\n",
      "ts = 0.2 # Test size\n",
      "vs = 0.5 # Validation data size (as % of the test data)\n",
      "\n",
      "train, valid, test = test_train_validation(temporary_features, ts, vs)\n",
      "\n",
      "y_train = train[:, 0]\n",
      "x_train = train[:, 1:]\n",
      "\n",
      "y_valid = valid[:, 0]\n",
      "x_valid = valid[:, 1:]\n",
      "\n",
      "y_test = test[:, 0]\n",
      "x_test = test[:, 1:]\n",
      "\n",
      "print(\"x_train shape: \" + str(x_train.shape))\n",
      "print(\"x_valid shape: \" + str(x_valid.shape))\n",
      "print(\"x_test shape: \" + str(x_test.shape))\n",
      "print()\n",
      "print(\"y_train shape: \" + str(y_train.shape))\n",
      "print(\"y_valid shape: \" + str(y_valid.shape))\n",
      "print(\"y_test shape: \" + str(y_test.shape))"
     ],
     "language": "python",
     "metadata": {},
     "outputs": [
      {
       "output_type": "stream",
       "stream": "stdout",
       "text": [
        "x_train shape: (3367, 364)\n",
        "x_valid shape: (421, 364)\n",
        "x_test shape: (421, 364)\n",
        "\n",
        "y_train shape: (3367,)\n",
        "y_valid shape: (421,)\n",
        "y_test shape: (421,)\n"
       ]
      }
     ],
     "prompt_number": 67
    },
    {
     "cell_type": "heading",
     "level": 6,
     "metadata": {},
     "source": [
      "Train the model"
     ]
    },
    {
     "cell_type": "code",
     "collapsed": false,
     "input": [
      "network_model.fit(x_train, y_train, x_valid, y_valid, epochs=400, verbose=0)"
     ],
     "language": "python",
     "metadata": {},
     "outputs": [],
     "prompt_number": 68
    },
    {
     "cell_type": "code",
     "collapsed": false,
     "input": [
      "y_valid_pred = network_model.predict(x_valid)\n",
      "R2_np(np.reshape(y_valid, (-1, 1)), y_valid_pred)"
     ],
     "language": "python",
     "metadata": {},
     "outputs": [
      {
       "metadata": {},
       "output_type": "pyout",
       "prompt_number": 69,
       "text": [
        "-1.1365118903350813"
       ]
      }
     ],
     "prompt_number": 69
    },
    {
     "cell_type": "code",
     "collapsed": false,
     "input": [
      "y_test_pred = network_model.predict(x_test)\n",
      "R2_np(np.reshape(y_test, (-1, 1)), y_test_pred)"
     ],
     "language": "python",
     "metadata": {},
     "outputs": [
      {
       "metadata": {},
       "output_type": "pyout",
       "prompt_number": 70,
       "text": [
        "-1.0908947474602368"
       ]
      }
     ],
     "prompt_number": 70
    },
    {
     "cell_type": "code",
     "collapsed": false,
     "input": [
      "print(np.reshape(y_valid[0:10], (1, -1)))\n",
      "print(np.reshape(y_valid_pred[0:10], (1, -1)))"
     ],
     "language": "python",
     "metadata": {},
     "outputs": [
      {
       "output_type": "stream",
       "stream": "stdout",
       "text": [
        "[[ 111.73999786  121.23000336   90.20999908  106.19999695  107.73999786\n",
        "    76.18000031   91.62000275   90.83999634  106.91000366  108.26999664]]\n",
        "[[ 92.4292984   93.16472626  73.97163391  92.82145691  95.75981903\n",
        "   66.60266113  78.23320007  78.6993103   90.73331451  93.44968414]]\n"
       ]
      }
     ],
     "prompt_number": 71
    },
    {
     "cell_type": "heading",
     "level": 6,
     "metadata": {},
     "source": [
      "Dispatch on real test data"
     ]
    },
    {
     "cell_type": "code",
     "collapsed": false,
     "input": [],
     "language": "python",
     "metadata": {},
     "outputs": [],
     "prompt_number": 71
    },
    {
     "cell_type": "code",
     "collapsed": false,
     "input": [],
     "language": "python",
     "metadata": {},
     "outputs": [],
     "prompt_number": 71
    }
   ],
   "metadata": {}
  }
 ]
}